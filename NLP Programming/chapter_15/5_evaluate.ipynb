{
 "cells": [
  {
   "cell_type": "code",
   "execution_count": null,
   "metadata": {
    "collapsed": false
   },
   "outputs": [],
   "source": ["import string\nimport re\nfrom os import listdir\nfrom numpy import array\nfrom keras.preprocessing.text import Tokenizer\nfrom keras.preprocessing.sequence import pad_sequences\nfrom keras.models import load_model\n\n# load doc into memory\ndef load_doc(filename):\n\t# open the file as read only\n\tfile = open(filename, 'r')\n\t# read all text\n\ttext = file.read()\n\t# close the file\n\tfile.close()\n\treturn text\n\n# turn a doc into clean tokens\ndef clean_doc(doc, vocab):\n\t# split into tokens by white space\n\ttokens = doc.split()\n\t# prepare regex for char filtering\n\tre_punc = re.compile('[%s]' % re.escape(string.punctuation))\n\t# remove punctuation from each word\n\ttokens = [re_punc.sub('', w) for w in tokens]\n\t# filter out tokens not in vocab\n\ttokens = [w for w in tokens if w in vocab]\n\ttokens = ' '.join(tokens)\n\treturn tokens\n\n# load all docs in a directory\ndef process_docs(directory, vocab, is_train):\n\tdocuments = list()\n\t# walk through all files in the folder\n\tfor filename in listdir(directory):\n\t\t# skip any reviews in the test set\n\t\tif is_train and filename.startswith('cv9'):\n\t\t\tcontinue\n\t\tif not is_train and not filename.startswith('cv9'):\n\t\t\tcontinue\n\t\t# create the full path of the file to open\n\t\tpath = directory + '/' + filename\n\t\t# load the doc\n\t\tdoc = load_doc(path)\n\t\t# clean doc\n\t\ttokens = clean_doc(doc, vocab)\n\t\t# add to list\n\t\tdocuments.append(tokens)\n\treturn documents\n\n# load and clean a dataset\ndef load_clean_dataset(vocab, is_train):\n\t# load documents\n\tneg = process_docs('txt_sentoken/neg', vocab, is_train)\n\tpos = process_docs('txt_sentoken/pos', vocab, is_train)\n\tdocs = neg + pos\n\t# prepare labels\n\tlabels = array([0 for _ in range(len(neg))] + [1 for _ in range(len(pos))])\n\treturn docs, labels\n\n# fit a tokenizer\ndef create_tokenizer(lines):\n\ttokenizer = Tokenizer()\n\ttokenizer.fit_on_texts(lines)\n\treturn tokenizer\n\n# integer encode and pad documents\ndef encode_docs(tokenizer, max_length, docs):\n\t# integer encode\n\tencoded = tokenizer.texts_to_sequences(docs)\n\t# pad sequences\n\tpadded = pad_sequences(encoded, maxlen=max_length, padding='post')\n\treturn padded\n\n# classify a review as negative or positive\ndef predict_sentiment(review, vocab, tokenizer, max_length, model):\n\t# clean review\n\tline = clean_doc(review, vocab)\n\t# encode and pad review\n\tpadded = encode_docs(tokenizer, max_length, [line])\n\t# predict sentiment\n\tyhat = model.predict(padded, verbose=0)\n\t# retrieve predicted percentage and label\n\tpercent_pos = yhat[0,0]\n\tif round(percent_pos) == 0:\n\t\treturn (1-percent_pos), 'NEGATIVE'\n\treturn percent_pos, 'POSITIVE'\n\n# load the vocabulary\nvocab_filename = 'vocab.txt'\nvocab = load_doc(vocab_filename)\nvocab = set(vocab.split())\n# load all reviews\ntrain_docs, ytrain = load_clean_dataset(vocab, True)\ntest_docs, ytest = load_clean_dataset(vocab, False)\n# create the tokenizer\ntokenizer = create_tokenizer(train_docs)\n# define vocabulary size\nvocab_size = len(tokenizer.word_index) + 1\nprint('Vocabulary size: %d' % vocab_size)\n# calculate the maximum sequence length\nmax_length = max([len(s.split()) for s in train_docs])\nprint('Maximum length: %d' % max_length)\n# encode data\nXtrain = encode_docs(tokenizer, max_length, train_docs)\nXtest = encode_docs(tokenizer, max_length, test_docs)\n# load the model\nmodel = load_model('model.h5')\n# evaluate model on training dataset\n_, acc = model.evaluate(Xtrain, ytrain, verbose=0)\nprint('Train Accuracy: %.2f' % (acc*100))\n# evaluate model on test dataset\n_, acc = model.evaluate(Xtest, ytest, verbose=0)\nprint('Test Accuracy: %.2f' % (acc*100))\n\n# test positive text\ntext = 'Everyone will enjoy this film. I love it, recommended!'\npercent, sentiment = predict_sentiment(text, vocab, tokenizer, max_length, model)\nprint('Review: [%s]\\nSentiment: %s (%.3f%%)' % (text, sentiment, percent*100))\n# test negative text\ntext = 'This is a bad movie. Do not watch it. It sucks.'\npercent, sentiment = predict_sentiment(text, vocab, tokenizer, max_length, model)\nprint('Review: [%s]\\nSentiment: %s (%.3f%%)' % (text, sentiment, percent*100))\n\n"]
  }
 ],
 "metadata": {
  "kernelspec": {
   "display_name": "Python 3",
   "language": "python",
   "name": "python3"
  },
  "language_info": {
   "codemirror_mode": {
    "name": "ipython",
    "version": 3
   },
   "file_extension": ".py",
   "mimetype": "text/x-python",
   "name": "python",
   "nbconvert_exporter": "python",
   "pygments_lexer": "ipython3",
   "version": "3.4.2"
  }
 },
 "nbformat": 4,
 "nbformat_minor": 0
}