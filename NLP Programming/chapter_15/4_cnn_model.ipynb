{
 "cells": [
  {
   "cell_type": "code",
   "execution_count": null,
   "metadata": {
    "collapsed": false
   },
   "outputs": [],
   "source": ["import string\nimport re\nfrom os import listdir\nfrom numpy import array\nfrom keras.preprocessing.text import Tokenizer\nfrom keras.preprocessing.sequence import pad_sequences\nfrom keras.utils.vis_utils import plot_model\nfrom keras.models import Sequential\nfrom keras.layers import Dense\nfrom keras.layers import Flatten\nfrom keras.layers import Embedding\nfrom keras.layers.convolutional import Conv1D\nfrom keras.layers.convolutional import MaxPooling1D\n\n# load doc into memory\ndef load_doc(filename):\n\t# open the file as read only\n\tfile = open(filename, 'r')\n\t# read all text\n\ttext = file.read()\n\t# close the file\n\tfile.close()\n\treturn text\n\n# turn a doc into clean tokens\ndef clean_doc(doc, vocab):\n\t# split into tokens by white space\n\ttokens = doc.split()\n\t# prepare regex for char filtering\n\tre_punc = re.compile('[%s]' % re.escape(string.punctuation))\n\t# remove punctuation from each word\n\ttokens = [re_punc.sub('', w) for w in tokens]\n\t# filter out tokens not in vocab\n\ttokens = [w for w in tokens if w in vocab]\n\ttokens = ' '.join(tokens)\n\treturn tokens\n\n# load all docs in a directory\ndef process_docs(directory, vocab, is_train):\n\tdocuments = list()\n\t# walk through all files in the folder\n\tfor filename in listdir(directory):\n\t\t# skip any reviews in the test set\n\t\tif is_train and filename.startswith('cv9'):\n\t\t\tcontinue\n\t\tif not is_train and not filename.startswith('cv9'):\n\t\t\tcontinue\n\t\t# create the full path of the file to open\n\t\tpath = directory + '/' + filename\n\t\t# load the doc\n\t\tdoc = load_doc(path)\n\t\t# clean doc\n\t\ttokens = clean_doc(doc, vocab)\n\t\t# add to list\n\t\tdocuments.append(tokens)\n\treturn documents\n\n# load and clean a dataset\ndef load_clean_dataset(vocab, is_train):\n\t# load documents\n\tneg = process_docs('txt_sentoken/neg', vocab, is_train)\n\tpos = process_docs('txt_sentoken/pos', vocab, is_train)\n\tdocs = neg + pos\n\t# prepare labels\n\tlabels = array([0 for _ in range(len(neg))] + [1 for _ in range(len(pos))])\n\treturn docs, labels\n\n# fit a tokenizer\ndef create_tokenizer(lines):\n\ttokenizer = Tokenizer()\n\ttokenizer.fit_on_texts(lines)\n\treturn tokenizer\n\n# integer encode and pad documents\ndef encode_docs(tokenizer, max_length, docs):\n\t# integer encode\n\tencoded = tokenizer.texts_to_sequences(docs)\n\t# pad sequences\n\tpadded = pad_sequences(encoded, maxlen=max_length, padding='post')\n\treturn padded\n\n# define the model\ndef define_model(vocab_size, max_length):\n\tmodel = Sequential()\n\tmodel.add(Embedding(vocab_size, 100, input_length=max_length))\n\tmodel.add(Conv1D(filters=32, kernel_size=8, activation='relu'))\n\tmodel.add(MaxPooling1D(pool_size=2))\n\tmodel.add(Flatten())\n\tmodel.add(Dense(10, activation='relu'))\n\tmodel.add(Dense(1, activation='sigmoid'))\n\t# compile network\n\tmodel.compile(loss='binary_crossentropy', optimizer='adam', metrics=['accuracy'])\n\t# summarize defined model\n\tmodel.summary()\n\tplot_model(model, to_file='model.png', show_shapes=True)\n\treturn model\n\n# load the vocabulary\nvocab_filename = 'vocab.txt'\nvocab = load_doc(vocab_filename)\nvocab = set(vocab.split())\n# load training data\ntrain_docs, ytrain = load_clean_dataset(vocab, True)\n# create the tokenizer\ntokenizer = create_tokenizer(train_docs)\n# define vocabulary size\nvocab_size = len(tokenizer.word_index) + 1\nprint('Vocabulary size: %d' % vocab_size)\n# calculate the maximum sequence length\nmax_length = max([len(s.split()) for s in train_docs])\nprint('Maximum length: %d' % max_length)\n# encode data\nXtrain = encode_docs(tokenizer, max_length, train_docs)\n# define model\nmodel = define_model(vocab_size, max_length)\n# fit network\nmodel.fit(Xtrain, ytrain, epochs=10, verbose=2)\n# save the model\nmodel.save('model.h5')\n\n\n"]
  }
 ],
 "metadata": {
  "kernelspec": {
   "display_name": "Python 3",
   "language": "python",
   "name": "python3"
  },
  "language_info": {
   "codemirror_mode": {
    "name": "ipython",
    "version": 3
   },
   "file_extension": ".py",
   "mimetype": "text/x-python",
   "name": "python",
   "nbconvert_exporter": "python",
   "pygments_lexer": "ipython3",
   "version": "3.4.2"
  }
 },
 "nbformat": 4,
 "nbformat_minor": 0
}