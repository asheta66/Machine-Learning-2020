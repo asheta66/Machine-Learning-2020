{
 "cells": [
  {
   "cell_type": "code",
   "execution_count": null,
   "metadata": {
    "collapsed": false
   },
   "outputs": [],
   "source": ["# Multilayer Perceptron\nfrom keras.utils import plot_model\nfrom keras.models import Model\nfrom keras.layers import Input\nfrom keras.layers import Dense\nvisible = Input(shape=(10,))\nhidden1 = Dense(10, activation='relu')(visible)\nhidden2 = Dense(20, activation='relu')(hidden1)\nhidden3 = Dense(10, activation='relu')(hidden2)\noutput = Dense(1, activation='sigmoid')(hidden3)\nmodel = Model(inputs=visible, outputs=output)\n# summarize layers\nmodel.summary()\n# plot graph\nplot_model(model, to_file='multilayer_perceptron_graph.png')"]
  }
 ],
 "metadata": {
  "kernelspec": {
   "display_name": "Python 3",
   "language": "python",
   "name": "python3"
  },
  "language_info": {
   "codemirror_mode": {
    "name": "ipython",
    "version": 3
   },
   "file_extension": ".py",
   "mimetype": "text/x-python",
   "name": "python",
   "nbconvert_exporter": "python",
   "pygments_lexer": "ipython3",
   "version": "3.4.2"
  }
 },
 "nbformat": 4,
 "nbformat_minor": 0
}