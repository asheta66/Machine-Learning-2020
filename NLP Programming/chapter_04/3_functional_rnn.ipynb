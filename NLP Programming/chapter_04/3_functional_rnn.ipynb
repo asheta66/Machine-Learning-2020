{
 "cells": [
  {
   "cell_type": "code",
   "execution_count": null,
   "metadata": {
    "collapsed": false
   },
   "outputs": [],
   "source": ["# Recurrent Neural Network\nfrom keras.utils import plot_model\nfrom keras.models import Model\nfrom keras.layers import Input\nfrom keras.layers import Dense\nfrom keras.layers.recurrent import LSTM\nvisible = Input(shape=(100,1))\nhidden1 = LSTM(10)(visible)\nhidden2 = Dense(10, activation='relu')(hidden1)\noutput = Dense(1, activation='sigmoid')(hidden2)\nmodel = Model(inputs=visible, outputs=output)\n# summarize layers\nmodel.summary()\n# plot graph\nplot_model(model, to_file='recurrent_neural_network.png')"]
  }
 ],
 "metadata": {
  "kernelspec": {
   "display_name": "Python 3",
   "language": "python",
   "name": "python3"
  },
  "language_info": {
   "codemirror_mode": {
    "name": "ipython",
    "version": 3
   },
   "file_extension": ".py",
   "mimetype": "text/x-python",
   "name": "python",
   "nbconvert_exporter": "python",
   "pygments_lexer": "ipython3",
   "version": "3.4.2"
  }
 },
 "nbformat": 4,
 "nbformat_minor": 0
}