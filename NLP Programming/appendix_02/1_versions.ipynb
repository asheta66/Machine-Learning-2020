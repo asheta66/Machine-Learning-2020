{
 "cells": [
  {
   "cell_type": "code",
   "execution_count": null,
   "metadata": {
    "collapsed": false
   },
   "outputs": [],
   "source": ["# scipy\nimport scipy\nprint('scipy: %s' % scipy.__version__)\n# numpy\nimport numpy\nprint('numpy: %s' % numpy.__version__)\n# matplotlib\nimport matplotlib\nprint('matplotlib: %s' % matplotlib.__version__)\n# pandas\nimport pandas\nprint('pandas: %s' % pandas.__version__)\n# statsmodels\nimport statsmodels\nprint('statsmodels: %s' % statsmodels.__version__)\n# scikit-learn\nimport sklearn\nprint('sklearn: %s' % sklearn.__version__)"]
  }
 ],
 "metadata": {
  "kernelspec": {
   "display_name": "Python 3",
   "language": "python",
   "name": "python3"
  },
  "language_info": {
   "codemirror_mode": {
    "name": "ipython",
    "version": 3
   },
   "file_extension": ".py",
   "mimetype": "text/x-python",
   "name": "python",
   "nbconvert_exporter": "python",
   "pygments_lexer": "ipython3",
   "version": "3.4.2"
  }
 },
 "nbformat": 4,
 "nbformat_minor": 0
}