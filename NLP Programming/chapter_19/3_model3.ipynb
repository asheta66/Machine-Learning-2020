{
 "cells": [
  {
   "cell_type": "code",
   "execution_count": null,
   "metadata": {
    "collapsed": false
   },
   "outputs": [],
   "source": ["from numpy import array\nfrom keras.preprocessing.text import Tokenizer\nfrom keras.utils import to_categorical\nfrom keras.preprocessing.sequence import pad_sequences\nfrom keras.utils.vis_utils import plot_model\nfrom keras.models import Sequential\nfrom keras.layers import Dense\nfrom keras.layers import LSTM\nfrom keras.layers import Embedding\n\n# generate a sequence from a language model\ndef generate_seq(model, tokenizer, max_length, seed_text, n_words):\n\tin_text = seed_text\n\t# generate a fixed number of words\n\tfor _ in range(n_words):\n\t\t# encode the text as integer\n\t\tencoded = tokenizer.texts_to_sequences([in_text])[0]\n\t\t# pre-pad sequences to a fixed length\n\t\tencoded = pad_sequences([encoded], maxlen=max_length, padding='pre')\n\t\t# predict probabilities for each word\n\t\tyhat = model.predict_classes(encoded, verbose=0)\n\t\t# map predicted word index to word\n\t\tout_word = ''\n\t\tfor word, index in tokenizer.word_index.items():\n\t\t\tif index == yhat:\n\t\t\t\tout_word = word\n\t\t\t\tbreak\n\t\t# append to input\n\t\tin_text += ' ' + out_word\n\treturn in_text\n\n# define the model\ndef define_model(vocab_size, max_length):\n\tmodel = Sequential()\n\tmodel.add(Embedding(vocab_size, 10, input_length=max_length-1))\n\tmodel.add(LSTM(50))\n\tmodel.add(Dense(vocab_size, activation='softmax'))\n\t# compile network\n\tmodel.compile(loss='categorical_crossentropy', optimizer='adam', metrics=['accuracy'])\n\t# summarize defined model\n\tmodel.summary()\n\tplot_model(model, to_file='model.png', show_shapes=True)\n\treturn model\n\n# source text\ndata = \"\"\" Jack and Jill went up the hill\\n\n\t\tTo fetch a pail of water\\n\n\t\tJack fell down and broke his crown\\n\n\t\tAnd Jill came tumbling after\\n \"\"\"\n# integer encode sequences of words\ntokenizer = Tokenizer()\ntokenizer.fit_on_texts([data])\nencoded = tokenizer.texts_to_sequences([data])[0]\n# retrieve vocabulary size\nvocab_size = len(tokenizer.word_index) + 1\nprint('Vocabulary Size: %d' % vocab_size)\n# encode 2 words -> 1 word\nsequences = list()\nfor i in range(2, len(encoded)):\n\tsequence = encoded[i-2:i+1]\n\tsequences.append(sequence)\nprint('Total Sequences: %d' % len(sequences))\n# pad sequences\nmax_length = max([len(seq) for seq in sequences])\nsequences = pad_sequences(sequences, maxlen=max_length, padding='pre')\nprint('Max Sequence Length: %d' % max_length)\n# split into input and output elements\nsequences = array(sequences)\nX, y = sequences[:,:-1],sequences[:,-1]\ny = to_categorical(y, num_classes=vocab_size)\n# define model\nmodel = define_model(vocab_size, max_length)\n# fit network\nmodel.fit(X, y, epochs=500, verbose=2)\n# evaluate model\nprint(generate_seq(model, tokenizer, max_length-1, 'Jack and', 5))\nprint(generate_seq(model, tokenizer, max_length-1, 'And Jill', 3))\nprint(generate_seq(model, tokenizer, max_length-1, 'fell down', 5))\nprint(generate_seq(model, tokenizer, max_length-1, 'pail of', 5))"]
  }
 ],
 "metadata": {
  "kernelspec": {
   "display_name": "Python 3",
   "language": "python",
   "name": "python3"
  },
  "language_info": {
   "codemirror_mode": {
    "name": "ipython",
    "version": 3
   },
   "file_extension": ".py",
   "mimetype": "text/x-python",
   "name": "python",
   "nbconvert_exporter": "python",
   "pygments_lexer": "ipython3",
   "version": "3.4.2"
  }
 },
 "nbformat": 4,
 "nbformat_minor": 0
}