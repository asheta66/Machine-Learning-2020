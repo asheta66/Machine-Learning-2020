{
 "cells": [
  {
   "cell_type": "code",
   "execution_count": null,
   "metadata": {
    "collapsed": false
   },
   "outputs": [],
   "source": ["from numpy import array\nfrom keras.preprocessing.text import Tokenizer\nfrom keras.utils import to_categorical\nfrom keras.utils.vis_utils import plot_model\nfrom keras.models import Sequential\nfrom keras.layers import Dense\nfrom keras.layers import LSTM\nfrom keras.layers import Embedding\n\n# generate a sequence from the model\ndef generate_seq(model, tokenizer, seed_text, n_words):\n\tin_text, result = seed_text, seed_text\n\t# generate a fixed number of words\n\tfor _ in range(n_words):\n\t\t# encode the text as integer\n\t\tencoded = tokenizer.texts_to_sequences([in_text])[0]\n\t\tencoded = array(encoded)\n\t\t# predict a word in the vocabulary\n\t\tyhat = model.predict_classes(encoded, verbose=0)\n\t\t# map predicted word index to word\n\t\tout_word = ''\n\t\tfor word, index in tokenizer.word_index.items():\n\t\t\tif index == yhat:\n\t\t\t\tout_word = word\n\t\t\t\tbreak\n\t\t# append to input\n\t\tin_text, result = out_word, result + ' ' + out_word\n\treturn result\n\n# define the model\ndef define_model(vocab_size):\n\tmodel = Sequential()\n\tmodel.add(Embedding(vocab_size, 10, input_length=1))\n\tmodel.add(LSTM(50))\n\tmodel.add(Dense(vocab_size, activation='softmax'))\n\t# compile network\n\tmodel.compile(loss='categorical_crossentropy', optimizer='adam', metrics=['accuracy'])\n\t# summarize defined model\n\tmodel.summary()\n\tplot_model(model, to_file='model.png', show_shapes=True)\n\treturn model\n\n# source text\ndata = \"\"\" Jack and Jill went up the hill\\n\n\t\tTo fetch a pail of water\\n\n\t\tJack fell down and broke his crown\\n\n\t\tAnd Jill came tumbling after\\n \"\"\"\n# integer encode text\ntokenizer = Tokenizer()\ntokenizer.fit_on_texts([data])\nencoded = tokenizer.texts_to_sequences([data])[0]\n# determine the vocabulary size\nvocab_size = len(tokenizer.word_index) + 1\nprint('Vocabulary Size: %d' % vocab_size)\n# create word -> word sequences\nsequences = list()\nfor i in range(1, len(encoded)):\n\tsequence = encoded[i-1:i+1]\n\tsequences.append(sequence)\nprint('Total Sequences: %d' % len(sequences))\n# split into X and y elements\nsequences = array(sequences)\nX, y = sequences[:,0],sequences[:,1]\n# one hot encode outputs\ny = to_categorical(y, num_classes=vocab_size)\n# define model\nmodel = define_model(vocab_size)\n# fit network\nmodel.fit(X, y, epochs=500, verbose=2)\n# evaluate\nprint(generate_seq(model, tokenizer, 'Jack', 6))"]
  }
 ],
 "metadata": {
  "kernelspec": {
   "display_name": "Python 3",
   "language": "python",
   "name": "python3"
  },
  "language_info": {
   "codemirror_mode": {
    "name": "ipython",
    "version": 3
   },
   "file_extension": ".py",
   "mimetype": "text/x-python",
   "name": "python",
   "nbconvert_exporter": "python",
   "pygments_lexer": "ipython3",
   "version": "3.4.2"
  }
 },
 "nbformat": 4,
 "nbformat_minor": 0
}