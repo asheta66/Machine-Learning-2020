{
 "cells": [
  {
   "cell_type": "code",
   "execution_count": null,
   "metadata": {
    "collapsed": false
   },
   "outputs": [],
   "source": ["from gensim.models import Word2Vec\n# define training data\nsentences = [['this', 'is', 'the', 'first', 'sentence', 'for', 'word2vec'],\n\t\t\t['this', 'is', 'the', 'second', 'sentence'],\n\t\t\t['yet', 'another', 'sentence'],\n\t\t\t['one', 'more', 'sentence'],\n\t\t\t['and', 'the', 'final', 'sentence']]\n# train model\nmodel = Word2Vec(sentences, min_count=1)\n# summarize the loaded model\nprint(model)\n# summarize vocabulary\nwords = list(model.wv.vocab)\nprint(words)\n# access vector for one word\nprint(model['sentence'])\n# save model\nmodel.save('model.bin')\n# load model\nnew_model = Word2Vec.load('model.bin')\nprint(new_model)"]
  }
 ],
 "metadata": {
  "kernelspec": {
   "display_name": "Python 3",
   "language": "python",
   "name": "python3"
  },
  "language_info": {
   "codemirror_mode": {
    "name": "ipython",
    "version": 3
   },
   "file_extension": ".py",
   "mimetype": "text/x-python",
   "name": "python",
   "nbconvert_exporter": "python",
   "pygments_lexer": "ipython3",
   "version": "3.4.2"
  }
 },
 "nbformat": 4,
 "nbformat_minor": 0
}