{
  "nbformat": 4,
  "nbformat_minor": 0,
  "metadata": {
    "kernelspec": {
      "display_name": "Python 3",
      "language": "python",
      "name": "python3"
    },
    "language_info": {
      "codemirror_mode": {
        "name": "ipython",
        "version": 3
      },
      "file_extension": ".py",
      "mimetype": "text/x-python",
      "name": "python",
      "nbconvert_exporter": "python",
      "pygments_lexer": "ipython3",
      "version": "3.4.2"
    },
    "colab": {
      "name": "1_example_word2vec.ipynb",
      "provenance": [],
      "include_colab_link": true
    }
  },
  "cells": [
    {
      "cell_type": "markdown",
      "metadata": {
        "id": "view-in-github",
        "colab_type": "text"
      },
      "source": [
        "<a href=\"https://colab.research.google.com/github/asheta66/Machine-Learning-2020/blob/main/NLP%20Programming/chapter_12/1_example_word2vec.ipynb\" target=\"_parent\"><img src=\"https://colab.research.google.com/assets/colab-badge.svg\" alt=\"Open In Colab\"/></a>"
      ]
    },
    {
      "cell_type": "code",
      "metadata": {
        "id": "uNp-K9SNWIwO",
        "outputId": "09f9dfa7-2fd2-406f-a4fc-312a6cec6a04",
        "colab": {
          "base_uri": "https://localhost:8080/"
        }
      },
      "source": [
        "from gensim.models import Word2Vec\n",
        "# define training data\n",
        "sentences = [['this', 'is', 'the', 'first', 'sentence', 'for', 'word2vec'],\n",
        "\t\t\t['this', 'is', 'the', 'second', 'sentence'],\n",
        "\t\t\t['yet', 'another', 'sentence'],\n",
        "\t\t\t['one', 'more', 'sentence'],\n",
        "\t\t\t['and', 'the', 'final', 'sentence']]\n",
        "# train model\n",
        "model = Word2Vec(sentences, min_count=1)\n",
        "# summarize the loaded model\n",
        "print(model)\n",
        "# summarize vocabulary\n",
        "words = list(model.wv.vocab)\n",
        "print(words)\n",
        "# access vector for one word\n",
        "print(model['sentence'])\n",
        "# save model\n",
        "model.save('model.bin')\n",
        "# load model\n",
        "new_model = Word2Vec.load('model.bin')\n",
        "print(new_model)"
      ],
      "execution_count": 1,
      "outputs": [
        {
          "output_type": "stream",
          "text": [
            "Word2Vec(vocab=14, size=100, alpha=0.025)\n",
            "['this', 'is', 'the', 'first', 'sentence', 'for', 'word2vec', 'second', 'yet', 'another', 'one', 'more', 'and', 'final']\n",
            "[-4.6923333e-03 -2.0317370e-03 -1.3465914e-03 -4.8213745e-03\n",
            " -1.0046692e-03  1.1953069e-03 -3.8834608e-03  3.5194256e-03\n",
            "  1.7796716e-03  2.5705618e-03 -4.0935553e-03  3.2463667e-03\n",
            " -1.3306546e-03  1.4535207e-03 -2.4636926e-03 -2.9897983e-03\n",
            "  1.1976816e-03  6.9957919e-04 -1.3948529e-03 -3.9535915e-03\n",
            "  2.4524580e-03  1.6692558e-03  3.4468595e-04  2.2195880e-03\n",
            " -2.3500540e-03  3.0920547e-03 -3.8487109e-04 -2.0494189e-03\n",
            " -1.8282174e-03  3.2020705e-03  6.1082852e-04 -9.6061407e-04\n",
            " -3.5535514e-03  2.4395310e-03 -2.8596900e-03  2.6775725e-04\n",
            " -2.8273433e-03 -2.1741446e-03 -2.1853487e-03  8.4690755e-04\n",
            " -2.6314727e-03 -3.0919095e-03  3.7173657e-03 -1.7674189e-03\n",
            " -7.4296026e-04 -1.1846516e-03  3.6474087e-03  2.2903807e-04\n",
            " -4.9214414e-03 -2.9393795e-03  2.5492301e-03 -4.2020734e-03\n",
            "  4.8320078e-05  2.1140240e-03  3.5238808e-03  4.2398409e-03\n",
            " -1.4601153e-03  6.6158379e-04  2.1770180e-03  7.4297964e-04\n",
            "  4.7952291e-03 -2.9760366e-03  2.0541207e-04 -4.8699868e-03\n",
            "  1.7656172e-03 -1.3846084e-03  1.7839186e-03  7.8081759e-04\n",
            " -2.2788311e-03 -2.9587825e-03  4.6833474e-03  5.4114650e-04\n",
            "  4.7937589e-04  1.8579330e-03  4.6951841e-03  3.3924857e-03\n",
            " -4.5727892e-03 -1.7781202e-03 -4.8865704e-04 -4.7598048e-03\n",
            "  4.2232443e-03 -4.1588750e-03  7.9436210e-04  2.3942951e-03\n",
            "  2.5994952e-03 -3.6852728e-03 -4.0417025e-03  4.4417614e-03\n",
            " -4.2329715e-03  1.7557525e-03  1.0604870e-03  4.2556915e-03\n",
            " -3.7165910e-03  4.6978290e-03  1.2747742e-03  3.4512118e-03\n",
            " -4.1906051e-03 -4.6403408e-03  1.9570827e-03 -2.5687336e-03]\n",
            "Word2Vec(vocab=14, size=100, alpha=0.025)\n"
          ],
          "name": "stdout"
        },
        {
          "output_type": "stream",
          "text": [
            "/usr/local/lib/python3.6/dist-packages/ipykernel_launcher.py:16: DeprecationWarning: Call to deprecated `__getitem__` (Method will be removed in 4.0.0, use self.wv.__getitem__() instead).\n",
            "  app.launch_new_instance()\n"
          ],
          "name": "stderr"
        }
      ]
    }
  ]
}