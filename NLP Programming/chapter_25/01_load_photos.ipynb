{
  "nbformat": 4,
  "nbformat_minor": 0,
  "metadata": {
    "kernelspec": {
      "display_name": "Python 3",
      "language": "python",
      "name": "python3"
    },
    "language_info": {
      "codemirror_mode": {
        "name": "ipython",
        "version": 3
      },
      "file_extension": ".py",
      "mimetype": "text/x-python",
      "name": "python",
      "nbconvert_exporter": "python",
      "pygments_lexer": "ipython3",
      "version": "3.4.2"
    },
    "colab": {
      "name": "01_load_photos.ipynb",
      "provenance": [],
      "include_colab_link": true
    }
  },
  "cells": [
    {
      "cell_type": "markdown",
      "metadata": {
        "id": "view-in-github",
        "colab_type": "text"
      },
      "source": [
        "<a href=\"https://colab.research.google.com/github/asheta66/Machine-Learning-2020/blob/main/NLP%20Programming/chapter_25/01_load_photos.ipynb\" target=\"_parent\"><img src=\"https://colab.research.google.com/assets/colab-badge.svg\" alt=\"Open In Colab\"/></a>"
      ]
    },
    {
      "cell_type": "code",
      "metadata": {
        "colab": {
          "base_uri": "https://localhost:8080/"
        },
        "id": "EoUTwh-xJb4w",
        "outputId": "418e133f-2596-474a-d435-71b6b31fb799"
      },
      "source": [
        "# Google News Vectors Download\r\n",
        "import requests \r\n",
        "\"\"\"file_url = \"https://github.com/jbrownlee/Datasets/releases/download/Flickr8k/Flickr8k_Dataset.zip\"    \r\n",
        "r = requests.get(file_url, stream = True) \r\n",
        "with open(\"Flickr8k_Dataset.zip\", \"wb\") as file:  \r\n",
        "    for block in r.iter_content(chunk_size = 1024): \r\n",
        "         if block:  \r\n",
        "             file.write(block)  \r\n",
        "#Gunziping Google News Vectors\r\n",
        "!unzip Flickr8k_Dataset.zip\r\n",
        "!rm Flickr8k_Dataset.zip\"\"\"\r\n",
        "\r\n",
        "file_url = \"https://github.com/jbrownlee/Datasets/releases/download/Flickr8k/Flickr8k_text.zip\"    \r\n",
        "r = requests.get(file_url, stream = True) \r\n",
        "%mkdir Flickr8k_text\r\n",
        "%cd 'Flickr8k_text/'\r\n",
        "%ls\r\n",
        "with open(\"Flickr8k_text.zip\", \"wb\") as file:  \r\n",
        "    for block in r.iter_content(chunk_size = 1024): \r\n",
        "         if block:  \r\n",
        "             file.write(block)  \r\n",
        "#Gunziping Google News Vectors\r\n",
        "!unzip Flickr8k_text.zip\r\n",
        "!rm Flickr8k_text.zip\r\n",
        "%cd .."
      ],
      "execution_count": 1,
      "outputs": [
        {
          "output_type": "stream",
          "text": [
            "/content/Flickr8k_text\n",
            "Archive:  Flickr8k_text.zip\n",
            "  inflating: CrowdFlowerAnnotations.txt  \n",
            "  inflating: ExpertAnnotations.txt   \n",
            "  inflating: Flickr8k.lemma.token.txt  \n",
            "   creating: __MACOSX/\n",
            "  inflating: __MACOSX/._Flickr8k.lemma.token.txt  \n",
            "  inflating: Flickr8k.token.txt      \n",
            "  inflating: Flickr_8k.devImages.txt  \n",
            "  inflating: Flickr_8k.testImages.txt  \n",
            "  inflating: Flickr_8k.trainImages.txt  \n",
            "  inflating: readme.txt              \n",
            "/content\n"
          ],
          "name": "stdout"
        }
      ]
    },
    {
      "cell_type": "code",
      "metadata": {
        "colab": {
          "base_uri": "https://localhost:8080/"
        },
        "id": "lq4jYXxtHAiJ",
        "outputId": "523abdee-a6e7-48b3-bb69-e08571af3929"
      },
      "source": [
        "from os import listdir\n",
        "from os import path\n",
        "from keras.preprocessing.image import load_img\n",
        "from keras.preprocessing.image import img_to_array\n",
        "from keras.applications.vgg16 import preprocess_input\n",
        "\n",
        "def load_photos(directory):\n",
        "  images = dict()\n",
        "  for name in listdir(directory):\n",
        "    # load an image from file\n",
        "    filename = path.join(directory, name)\n",
        "    image = load_img(filename, target_size=(224, 224))\n",
        "\t\t# convert the image pixels to a numpy array\n",
        "    image = img_to_array(image)\n",
        "\t\t# reshape data for the model\n",
        "    image = image.reshape((1, image.shape[0], image.shape[1], image.shape[2]))\n",
        "\t\t# prepare the image for the VGG model\n",
        "    image = preprocess_input(image)\n",
        "\t\t# get image id\n",
        "    image_id = name.split('.')[0]\n",
        "    images[image_id] = image\n",
        "  return images\n",
        "\n",
        "# load images\n",
        "directory = 'Flicker8k_Dataset'\n",
        "images = load_photos(directory)\n",
        "print('Loaded Images: %d' % len(images))"
      ],
      "execution_count": 10,
      "outputs": [
        {
          "output_type": "stream",
          "text": [
            "Loaded Images: 8091\n"
          ],
          "name": "stdout"
        }
      ]
    }
  ]
}