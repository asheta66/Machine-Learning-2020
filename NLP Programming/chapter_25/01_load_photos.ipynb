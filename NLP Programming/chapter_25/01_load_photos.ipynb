{
  "nbformat": 4,
  "nbformat_minor": 0,
  "metadata": {
    "kernelspec": {
      "display_name": "Python 3",
      "language": "python",
      "name": "python3"
    },
    "language_info": {
      "codemirror_mode": {
        "name": "ipython",
        "version": 3
      },
      "file_extension": ".py",
      "mimetype": "text/x-python",
      "name": "python",
      "nbconvert_exporter": "python",
      "pygments_lexer": "ipython3",
      "version": "3.4.2"
    },
    "colab": {
      "name": "01_load_photos.ipynb",
      "provenance": [],
      "include_colab_link": true
    }
  },
  "cells": [
    {
      "cell_type": "markdown",
      "metadata": {
        "id": "view-in-github",
        "colab_type": "text"
      },
      "source": [
        "<a href=\"https://colab.research.google.com/github/asheta66/Machine-Learning-2020/blob/main/NLP%20Programming/chapter_25/01_load_photos.ipynb\" target=\"_parent\"><img src=\"https://colab.research.google.com/assets/colab-badge.svg\" alt=\"Open In Colab\"/></a>"
      ]
    },
    {
      "cell_type": "code",
      "metadata": {
        "id": "EoUTwh-xJb4w"
      },
      "source": [
        "# Google News Vectors Download\r\n",
        "import requests \r\n",
        "file_url = \"https://github.com/jbrownlee/Datasets/releases/download/Flickr8k/Flickr8k_Dataset.zip\"    \r\n",
        "r = requests.get(file_url, stream = True) \r\n",
        "%mkdir 'Flicker8k_Dataset'\r\n",
        "with open(\"Flicker8k_Dataset/Flickr8k_Dataset.zip\", \"wb\") as file:  \r\n",
        "    for block in r.iter_content(chunk_size = 1024): \r\n",
        "         if block:  \r\n",
        "             file.write(block)  \r\n",
        "#Gunziping Google News Vectors\r\n",
        "!unzip Flicker8k_Dataset/Flickr8k_Dataset.zip\r\n",
        "!rm Flicker8k_Dataset/Flickr8k_Dataset.zip\r\n",
        "file_url = \"https://github.com/jbrownlee/Datasets/releases/download/Flickr8k/Flickr8k_text.zip\"    \r\n",
        "r = requests.get(file_url, stream = True) \r\n",
        "%mkdir Flickr8k_text\r\n",
        "with open(\"Flickr8k_text/Flickr8k_text.zip\", \"wb\") as file:  \r\n",
        "    for block in r.iter_content(chunk_size = 1024): \r\n",
        "         if block:  \r\n",
        "             file.write(block)  \r\n",
        "#Gunziping Google News Vectors\r\n",
        "!unzip Flickr8k_text/Flickr8k_text.zip\r\n",
        "!rm Flickr8k_text/Flickr8k_text.zip"
      ],
      "execution_count": null,
      "outputs": []
    },
    {
      "cell_type": "code",
      "metadata": {
        "id": "lq4jYXxtHAiJ",
        "outputId": "540aff40-a5a0-4d35-c2aa-aeb912ce283b",
        "colab": {
          "base_uri": "https://localhost:8080/"
        }
      },
      "source": [
        "from os import listdir\n",
        "from os import path\n",
        "from keras.preprocessing.image import load_img\n",
        "from keras.preprocessing.image import img_to_array\n",
        "from keras.applications.vgg16 import preprocess_input\n",
        "\n",
        "def load_photos(directory):\n",
        "  images = dict()\n",
        "  for name in listdir(directory):\n",
        "    # load an image from file\n",
        "    filename = path.join(directory, name)\n",
        "    image = load_img(filename, target_size=(224, 224))\n",
        "\t\t# convert the image pixels to a numpy array\n",
        "    image = img_to_array(image)\n",
        "\t\t# reshape data for the model\n",
        "    image = image.reshape((1, image.shape[0], image.shape[1], image.shape[2]))\n",
        "\t\t# prepare the image for the VGG model\n",
        "    image = preprocess_input(image)\n",
        "\t\t# get image id\n",
        "    image_id = name.split('.')[0]\n",
        "    images[image_id] = image\n",
        "  return images\n",
        "\n",
        "# load images\n",
        "directory = 'Flicker8k_Dataset'\n",
        "images = load_photos(directory)\n",
        "print('Loaded Images: %d' % len(images))"
      ],
      "execution_count": 2,
      "outputs": [
        {
          "output_type": "stream",
          "text": [
            "Loaded Images: 8091\n"
          ],
          "name": "stdout"
        }
      ]
    }
  ]
}