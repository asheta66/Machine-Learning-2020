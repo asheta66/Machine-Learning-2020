{
  "nbformat": 4,
  "nbformat_minor": 0,
  "metadata": {
    "kernelspec": {
      "display_name": "Python 3",
      "language": "python",
      "name": "python3"
    },
    "language_info": {
      "codemirror_mode": {
        "name": "ipython",
        "version": 3
      },
      "file_extension": ".py",
      "mimetype": "text/x-python",
      "name": "python",
      "nbconvert_exporter": "python",
      "pygments_lexer": "ipython3",
      "version": "3.4.2"
    },
    "colab": {
      "name": "07_progressive_loading.ipynb",
      "provenance": [],
      "include_colab_link": true
    },
    "accelerator": "GPU"
  },
  "cells": [
    {
      "cell_type": "markdown",
      "metadata": {
        "id": "view-in-github",
        "colab_type": "text"
      },
      "source": [
        "<a href=\"https://colab.research.google.com/github/asheta66/Machine-Learning-2020/blob/main/NLP%20Programming/chapter_25/07_progressive_loading.ipynb\" target=\"_parent\"><img src=\"https://colab.research.google.com/assets/colab-badge.svg\" alt=\"Open In Colab\"/></a>"
      ]
    },
    {
      "cell_type": "code",
      "metadata": {
        "id": "ya-ijI89RYJ_"
      },
      "source": [
        "# Acquireing datasets\r\n",
        "!git clone https://github.com/asheta66/Machine-Learning-2020\r\n",
        "# Create Model via another notebook\r\n",
        "%run Machine-Learning-2020/NLP\\ Programming/chapter_25/06_word_by_word.ipynb"
      ],
      "execution_count": null,
      "outputs": []
    },
    {
      "cell_type": "code",
      "metadata": {
        "id": "EspMVnHlHC5e",
        "outputId": "98b183bb-c239-4daa-dd8e-759bf9a95fb8",
        "colab": {
          "base_uri": "https://localhost:8080/"
        }
      },
      "source": [
        "from os import listdir\n",
        "from os import path\n",
        "from numpy import array\n",
        "from keras.preprocessing.text import Tokenizer\n",
        "from keras.preprocessing.sequence import pad_sequences\n",
        "from keras.utils import to_categorical\n",
        "from keras.preprocessing.image import load_img\n",
        "from keras.preprocessing.image import img_to_array\n",
        "from keras.applications.vgg16 import preprocess_input\n",
        "\n",
        "# load doc into memory\n",
        "def load_doc(filename):\n",
        "\t# open the file as read only\n",
        "\tfile = open(filename, 'r')\n",
        "\t# read all text\n",
        "\ttext = file.read()\n",
        "\t# close the file\n",
        "\tfile.close()\n",
        "\treturn text\n",
        "\n",
        "# load clean descriptions into memory\n",
        "def load_clean_descriptions(filename):\n",
        "\tdoc = load_doc(filename)\n",
        "\tdescriptions = dict()\n",
        "\tfor line in doc.split('\\n'):\n",
        "\t\t# split line by white space\n",
        "\t\ttokens = line.split()\n",
        "\t\t# split id from description\n",
        "\t\timage_id, image_desc = tokens[0], tokens[1:]\n",
        "\t\t# store\n",
        "\t\tdescriptions[image_id] = ' '.join(image_desc)\n",
        "\treturn descriptions\n",
        "\n",
        "# fit a tokenizer given caption descriptions\n",
        "def create_tokenizer(descriptions):\n",
        "\tlines = list(descriptions.values())\n",
        "\ttokenizer = Tokenizer()\n",
        "\ttokenizer.fit_on_texts(lines)\n",
        "\treturn tokenizer\n",
        "\n",
        "# load a single photo intended as input for the VGG feature extractor model\n",
        "def load_photo(filename):\n",
        "\timage = load_img(filename, target_size=(224, 224))\n",
        "\t# convert the image pixels to a numpy array\n",
        "\timage = img_to_array(image)\n",
        "\t# reshape data for the model\n",
        "\timage = image.reshape((1, image.shape[0], image.shape[1], image.shape[2]))\n",
        "\t# prepare the image for the VGG model\n",
        "\timage = preprocess_input(image)[0]\n",
        "\t# get image id\n",
        "\timage_id = path.basename(filename).split('.')[0]\n",
        "\treturn image, image_id\n",
        "\n",
        "# create sequences of images, input sequences and output words for an image\n",
        "def create_sequences(tokenizer, max_length, desc, image):\n",
        "\tXimages, XSeq, y = list(), list(),list()\n",
        "\tvocab_size = len(tokenizer.word_index) + 1\n",
        "\t# integer encode the description\n",
        "\tseq = tokenizer.texts_to_sequences([desc])[0]\n",
        "\t# split one sequence into multiple X,y pairs\n",
        "\tfor i in range(1, len(seq)):\n",
        "\t\t# select\n",
        "\t\tin_seq, out_seq = seq[:i], seq[i]\n",
        "\t\t# pad input sequence\n",
        "\t\tin_seq = pad_sequences([in_seq], maxlen=max_length)[0]\n",
        "\t\t# encode output sequence\n",
        "\t\tout_seq = to_categorical([out_seq], num_classes=vocab_size)[0]\n",
        "\t\t# store\n",
        "\t\tXimages.append(image)\n",
        "\t\tXSeq.append(in_seq)\n",
        "\t\ty.append(out_seq)\n",
        "\tXimages, XSeq, y = array(Ximages), array(XSeq), array(y)\n",
        "\treturn [Ximages, XSeq, y]\n",
        "\n",
        "# data generator, intended to be used in a call to model.fit_generator()\n",
        "def data_generator(descriptions, tokenizer, max_length):\n",
        "\t# loop for ever over images\n",
        "\tdirectory = 'Flicker8k_Dataset'\n",
        "\twhile 1:\n",
        "\t\tfor name in listdir(directory):\n",
        "\t\t\t# load an image from file\n",
        "\t\t\tfilename = path.join(directory, name)\n",
        "\t\t\timage, image_id = load_photo(filename)\n",
        "\t\t\t# create word sequences\n",
        "\t\t\tdesc = descriptions[image_id]\n",
        "\t\t\tin_img, in_seq, out_word = create_sequences(tokenizer, max_length, desc, image)\n",
        "\t\t\tyield [[in_img, in_seq], out_word]\n",
        "\n",
        "# load mapping of ids to descriptions\n",
        "descriptions = load_clean_descriptions('descriptions.txt')\n",
        "# integer encode sequences of words\n",
        "tokenizer = create_tokenizer(descriptions)\n",
        "# pad to fixed length\n",
        "max_length = max(len(s.split()) for s in list(descriptions.values()))\n",
        "print('Description Length: %d' % max_length)\n",
        "# test the data generator\n",
        "generator = data_generator(descriptions, tokenizer, max_length)\n",
        "inputs, outputs = next(generator)\n",
        "print(inputs[0].shape)\n",
        "print(inputs[1].shape)\n",
        "print(outputs.shape)"
      ],
      "execution_count": 2,
      "outputs": [
        {
          "output_type": "stream",
          "text": [
            "Description Length: 28\n",
            "(13, 224, 224, 3)\n",
            "(13, 28)\n",
            "(13, 4485)\n"
          ],
          "name": "stdout"
        }
      ]
    }
  ]
}