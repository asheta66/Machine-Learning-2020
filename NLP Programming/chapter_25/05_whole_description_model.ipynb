{
  "nbformat": 4,
  "nbformat_minor": 0,
  "metadata": {
    "kernelspec": {
      "display_name": "Python 3",
      "language": "python",
      "name": "python3"
    },
    "language_info": {
      "codemirror_mode": {
        "name": "ipython",
        "version": 3
      },
      "file_extension": ".py",
      "mimetype": "text/x-python",
      "name": "python",
      "nbconvert_exporter": "python",
      "pygments_lexer": "ipython3",
      "version": "3.4.2"
    },
    "colab": {
      "name": "05_whole_description_model.ipynb",
      "provenance": [],
      "include_colab_link": true
    }
  },
  "cells": [
    {
      "cell_type": "markdown",
      "metadata": {
        "id": "view-in-github",
        "colab_type": "text"
      },
      "source": [
        "<a href=\"https://colab.research.google.com/github/asheta66/Machine-Learning-2020/blob/main/NLP%20Programming/chapter_25/05_whole_description_model.ipynb\" target=\"_parent\"><img src=\"https://colab.research.google.com/assets/colab-badge.svg\" alt=\"Open In Colab\"/></a>"
      ]
    },
    {
      "cell_type": "code",
      "metadata": {
        "id": "Xkf9o0IERWPH"
      },
      "source": [
        "# Acquireing datasets\r\n",
        "!git clone https://github.com/asheta66/Machine-Learning-2020\r\n",
        "# Create Model via another notebook\r\n",
        "%run Machine-Learning-2020/NLP\\ Programming/chapter_25/04_clean_descriptions.ipynb"
      ],
      "execution_count": null,
      "outputs": []
    },
    {
      "cell_type": "code",
      "metadata": {
        "id": "SYg6kXujHCS-"
      },
      "source": [
        "from keras.preprocessing.text import Tokenizer\n",
        "from keras.preprocessing.sequence import pad_sequences\n",
        "from keras.utils import to_categorical\n",
        "\n",
        "# load doc into memory\n",
        "def load_doc(filename):\n",
        "\t# open the file as read only\n",
        "\tfile = open(filename, 'r')\n",
        "\t# read all text\n",
        "\ttext = file.read()\n",
        "\t# close the file\n",
        "\tfile.close()\n",
        "\treturn text\n",
        "\n",
        "# load clean descriptions into memory\n",
        "def load_clean_descriptions(filename):\n",
        "\tdoc = load_doc(filename)\n",
        "\tdescriptions = dict()\n",
        "\tfor line in doc.split('\\n'):\n",
        "\t\t# split line by white space\n",
        "\t\ttokens = line.split()\n",
        "\t\t# split id from description\n",
        "\t\timage_id, image_desc = tokens[0], tokens[1:]\n",
        "\t\t# store\n",
        "\t\tdescriptions[image_id] = ' '.join(image_desc)\n",
        "\treturn descriptions\n",
        "\n",
        "descriptions = load_clean_descriptions('descriptions.txt')\n",
        "print('Loaded %d' % (len(descriptions)))\n",
        "# extract all text\n",
        "desc_text = list(descriptions.values())\n",
        "# prepare tokenizer\n",
        "tokenizer = Tokenizer()\n",
        "tokenizer.fit_on_texts(desc_text)\n",
        "vocab_size = len(tokenizer.word_index) + 1\n",
        "print('Vocabulary Size: %d' % vocab_size)\n",
        "# integer encode descriptions\n",
        "sequences = tokenizer.texts_to_sequences(desc_text)\n",
        "# pad all sequences to a fixed length\n",
        "max_length = max(len(s) for s in sequences)\n",
        "print('Description Length: %d' % max_length)\n",
        "padded = pad_sequences(sequences, maxlen=max_length, padding='post')\n",
        "# one hot encode\n",
        "y = to_categorical(padded, num_classes=vocab_size)\n",
        "y = y.reshape((len(descriptions), max_length, vocab_size))\n",
        "print(y.shape)"
      ],
      "execution_count": null,
      "outputs": []
    }
  ]
}