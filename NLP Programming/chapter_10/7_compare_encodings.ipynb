{
 "cells": [
  {
   "cell_type": "code",
   "execution_count": null,
   "metadata": {
    "collapsed": false
   },
   "outputs": [],
   "source": ["import string\nimport re\nfrom os import listdir\nfrom numpy import array\nfrom nltk.corpus import stopwords\nfrom keras.preprocessing.text import Tokenizer\nfrom keras.models import Sequential\nfrom keras.layers import Dense\nfrom pandas import DataFrame\nfrom matplotlib import pyplot\n\n# load doc into memory\ndef load_doc(filename):\n\t# open the file as read only\n\tfile = open(filename, 'r')\n\t# read all text\n\ttext = file.read()\n\t# close the file\n\tfile.close()\n\treturn text\n\n# turn a doc into clean tokens\ndef clean_doc(doc):\n\t# split into tokens by white space\n\ttokens = doc.split()\n\t# prepare regex for char filtering\n\tre_punc = re.compile('[%s]' % re.escape(string.punctuation))\n\t# remove punctuation from each word\n\ttokens = [re_punc.sub('', w) for w in tokens]\n\t# remove remaining tokens that are not alphabetic\n\ttokens = [word for word in tokens if word.isalpha()]\n\t# filter out stop words\n\tstop_words = set(stopwords.words('english'))\n\ttokens = [w for w in tokens if not w in stop_words]\n\t# filter out short tokens\n\ttokens = [word for word in tokens if len(word) > 1]\n\treturn tokens\n\n# load doc, clean and return line of tokens\ndef doc_to_line(filename, vocab):\n\t# load the doc\n\tdoc = load_doc(filename)\n\t# clean doc\n\ttokens = clean_doc(doc)\n\t# filter by vocab\n\ttokens = [w for w in tokens if w in vocab]\n\treturn ' '.join(tokens)\n\n# load all docs in a directory\ndef process_docs(directory, vocab, is_train):\n\tlines = list()\n\t# walk through all files in the folder\n\tfor filename in listdir(directory):\n\t\t# skip any reviews in the test set\n\t\tif is_train and filename.startswith('cv9'):\n\t\t\tcontinue\n\t\tif not is_train and not filename.startswith('cv9'):\n\t\t\tcontinue\n\t\t# create the full path of the file to open\n\t\tpath = directory + '/' + filename\n\t\t# load and clean the doc\n\t\tline = doc_to_line(path, vocab)\n\t\t# add to list\n\t\tlines.append(line)\n\treturn lines\n\n# load and clean a dataset\ndef load_clean_dataset(vocab, is_train):\n\t# load documents\n\tneg = process_docs('txt_sentoken/neg', vocab, is_train)\n\tpos = process_docs('txt_sentoken/pos', vocab, is_train)\n\tdocs = neg + pos\n\t# prepare labels\n\tlabels = array([0 for _ in range(len(neg))] + [1 for _ in range(len(pos))])\n\treturn docs, labels\n\n# define the model\ndef define_model(n_words):\n\t# define network\n\tmodel = Sequential()\n\tmodel.add(Dense(50, input_shape=(n_words,), activation='relu'))\n\tmodel.add(Dense(1, activation='sigmoid'))\n\t# compile network\n\tmodel.compile(loss='binary_crossentropy', optimizer='adam', metrics=['accuracy'])\n\treturn model\n\n# evaluate a neural network model\ndef evaluate_mode(Xtrain, ytrain, Xtest, ytest):\n\tscores = list()\n\tn_repeats = 10\n\tn_words = Xtest.shape[1]\n\tfor i in range(n_repeats):\n\t\t# define network\n\t\tmodel = define_model(n_words)\n\t\t# fit network\n\t\tmodel.fit(Xtrain, ytrain, epochs=10, verbose=0)\n\t\t# evaluate\n\t\t_, acc = model.evaluate(Xtest, ytest, verbose=0)\n\t\tscores.append(acc)\n\t\tprint('%d accuracy: %s' % ((i+1), acc))\n\treturn scores\n\n# prepare bag of words encoding of docs\ndef prepare_data(train_docs, test_docs, mode):\n\t# create the tokenizer\n\ttokenizer = Tokenizer()\n\t# fit the tokenizer on the documents\n\ttokenizer.fit_on_texts(train_docs)\n\t# encode training data set\n\tXtrain = tokenizer.texts_to_matrix(train_docs, mode=mode)\n\t# encode training data set\n\tXtest = tokenizer.texts_to_matrix(test_docs, mode=mode)\n\treturn Xtrain, Xtest\n\n# load the vocabulary\nvocab_filename = 'vocab.txt'\nvocab = load_doc(vocab_filename)\nvocab = set(vocab.split())\n# load all reviews\ntrain_docs, ytrain = load_clean_dataset(vocab, True)\ntest_docs, ytest = load_clean_dataset(vocab, False)\n# run experiment\nmodes = ['binary', 'count', 'tfidf', 'freq']\nresults = DataFrame()\nfor mode in modes:\n\t# prepare data for mode\n\tXtrain, Xtest = prepare_data(train_docs, test_docs, mode)\n\t# evaluate model on data for mode\n\tresults[mode] = evaluate_mode(Xtrain, ytrain, Xtest, ytest)\n# summarize results\nprint(results.describe())\n# plot results\nresults.boxplot()\npyplot.show()\n"]
  }
 ],
 "metadata": {
  "kernelspec": {
   "display_name": "Python 3",
   "language": "python",
   "name": "python3"
  },
  "language_info": {
   "codemirror_mode": {
    "name": "ipython",
    "version": 3
   },
   "file_extension": ".py",
   "mimetype": "text/x-python",
   "name": "python",
   "nbconvert_exporter": "python",
   "pygments_lexer": "ipython3",
   "version": "3.4.2"
  }
 },
 "nbformat": 4,
 "nbformat_minor": 0
}