{
 "cells": [
  {
   "cell_type": "code",
   "execution_count": null,
   "metadata": {
    "collapsed": false
   },
   "outputs": [],
   "source": ["import string\nimport re\nfrom os import listdir\nfrom nltk.corpus import stopwords\n\n# load doc into memory\ndef load_doc(filename):\n\t# open the file as read only\n\tfile = open(filename, 'r')\n\t# read all text\n\ttext = file.read()\n\t# close the file\n\tfile.close()\n\treturn text\n\n# turn a doc into clean tokens\ndef clean_doc(doc):\n\t# split into tokens by white space\n\ttokens = doc.split()\n\t# prepare regex for char filtering\n\tre_punc = re.compile('[%s]' % re.escape(string.punctuation))\n\t# remove punctuation from each word\n\ttokens = [re_punc.sub('', w) for w in tokens]\n\t# remove remaining tokens that are not alphabetic\n\ttokens = [word for word in tokens if word.isalpha()]\n\t# filter out stop words\n\tstop_words = set(stopwords.words('english'))\n\ttokens = [w for w in tokens if not w in stop_words]\n\t# filter out short tokens\n\ttokens = [word for word in tokens if len(word) > 1]\n\treturn tokens\n\n# load doc, clean and return line of tokens\ndef doc_to_line(filename, vocab):\n\t# load the doc\n\tdoc = load_doc(filename)\n\t# clean doc\n\ttokens = clean_doc(doc)\n\t# filter by vocab\n\ttokens = [w for w in tokens if w in vocab]\n\treturn ' '.join(tokens)\n\n# load all docs in a directory\ndef process_docs(directory, vocab):\n\tlines = list()\n\t# walk through all files in the folder\n\tfor filename in listdir(directory):\n\t\t# skip any reviews in the test set\n\t\tif filename.startswith('cv9'):\n\t\t\tcontinue\n\t\t# create the full path of the file to open\n\t\tpath = directory + '/' + filename\n\t\t# load and clean the doc\n\t\tline = doc_to_line(path, vocab)\n\t\t# add to list\n\t\tlines.append(line)\n\treturn lines\n\n# load and clean a dataset\ndef load_clean_dataset(vocab):\n\t# load documents\n\tneg = process_docs('txt_sentoken/neg', vocab)\n\tpos = process_docs('txt_sentoken/pos', vocab)\n\tdocs = neg + pos\n\t# prepare labels\n\tlabels = [0 for _ in range(len(neg))] + [1 for _ in range(len(pos))]\n\treturn docs, labels\n\n# load the vocabulary\nvocab_filename = 'vocab.txt'\nvocab = load_doc(vocab_filename)\nvocab = vocab.split()\nvocab = set(vocab)\n# load all training reviews\ndocs, labels = load_clean_dataset(vocab)\n# summarize what we have\nprint(len(docs), len(labels))\n"]
  }
 ],
 "metadata": {
  "kernelspec": {
   "display_name": "Python 3",
   "language": "python",
   "name": "python3"
  },
  "language_info": {
   "codemirror_mode": {
    "name": "ipython",
    "version": 3
   },
   "file_extension": ".py",
   "mimetype": "text/x-python",
   "name": "python",
   "nbconvert_exporter": "python",
   "pygments_lexer": "ipython3",
   "version": "3.4.2"
  }
 },
 "nbformat": 4,
 "nbformat_minor": 0
}