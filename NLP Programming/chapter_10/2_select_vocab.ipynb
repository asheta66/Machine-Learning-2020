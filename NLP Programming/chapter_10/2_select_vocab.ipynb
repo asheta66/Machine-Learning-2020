{
 "cells": [
  {
   "cell_type": "code",
   "execution_count": null,
   "metadata": {
    "collapsed": false
   },
   "outputs": [],
   "source": ["import string\nimport re\nfrom os import listdir\nfrom collections import Counter\nfrom nltk.corpus import stopwords\n\n# load doc into memory\ndef load_doc(filename):\n\t# open the file as read only\n\tfile = open(filename, 'r')\n\t# read all text\n\ttext = file.read()\n\t# close the file\n\tfile.close()\n\treturn text\n\n# turn a doc into clean tokens\ndef clean_doc(doc):\n\t# split into tokens by white space\n\ttokens = doc.split()\n\t# prepare regex for char filtering\n\tre_punc = re.compile('[%s]' % re.escape(string.punctuation))\n\t# remove punctuation from each word\n\ttokens = [re_punc.sub('', w) for w in tokens]\n\t# remove remaining tokens that are not alphabetic\n\ttokens = [word for word in tokens if word.isalpha()]\n\t# filter out stop words\n\tstop_words = set(stopwords.words('english'))\n\ttokens = [w for w in tokens if not w in stop_words]\n\t# filter out short tokens\n\ttokens = [word for word in tokens if len(word) > 1]\n\treturn tokens\n\n# load doc and add to vocab\ndef add_doc_to_vocab(filename, vocab):\n\t# load doc\n\tdoc = load_doc(filename)\n\t# clean doc\n\ttokens = clean_doc(doc)\n\t# update counts\n\tvocab.update(tokens)\n\n# load all docs in a directory\ndef process_docs(directory, vocab):\n\t# walk through all files in the folder\n\tfor filename in listdir(directory):\n\t\t# skip any reviews in the test set\n\t\tif filename.startswith('cv9'):\n\t\t\tcontinue\n\t\t# create the full path of the file to open\n\t\tpath = directory + '/' + filename\n\t\t# add doc to vocab\n\t\tadd_doc_to_vocab(path, vocab)\n\n# define vocab\nvocab = Counter()\n# add all docs to vocab\nprocess_docs('txt_sentoken/pos', vocab)\nprocess_docs('txt_sentoken/neg', vocab)\n# print the size of the vocab\nprint(len(vocab))\n# print the top words in the vocab\nprint(vocab.most_common(50))"]
  }
 ],
 "metadata": {
  "kernelspec": {
   "display_name": "Python 3",
   "language": "python",
   "name": "python3"
  },
  "language_info": {
   "codemirror_mode": {
    "name": "ipython",
    "version": 3
   },
   "file_extension": ".py",
   "mimetype": "text/x-python",
   "name": "python",
   "nbconvert_exporter": "python",
   "pygments_lexer": "ipython3",
   "version": "3.4.2"
  }
 },
 "nbformat": 4,
 "nbformat_minor": 0
}