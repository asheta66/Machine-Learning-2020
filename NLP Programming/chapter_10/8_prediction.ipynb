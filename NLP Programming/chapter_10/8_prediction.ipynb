{
 "cells": [
  {
   "cell_type": "code",
   "execution_count": null,
   "metadata": {
    "collapsed": false
   },
   "outputs": [],
   "source": ["import string\nimport re\nfrom os import listdir\nfrom numpy import array\nfrom nltk.corpus import stopwords\nfrom keras.preprocessing.text import Tokenizer\nfrom keras.utils.vis_utils import plot_model\nfrom keras.models import Sequential\nfrom keras.layers import Dense\n\n# load doc into memory\ndef load_doc(filename):\n\t# open the file as read only\n\tfile = open(filename, 'r')\n\t# read all text\n\ttext = file.read()\n\t# close the file\n\tfile.close()\n\treturn text\n\n# turn a doc into clean tokens\ndef clean_doc(doc):\n\t# split into tokens by white space\n\ttokens = doc.split()\n\t# prepare regex for char filtering\n\tre_punc = re.compile('[%s]' % re.escape(string.punctuation))\n\t# remove punctuation from each word\n\ttokens = [re_punc.sub('', w) for w in tokens]\n\t# remove remaining tokens that are not alphabetic\n\ttokens = [word for word in tokens if word.isalpha()]\n\t# filter out stop words\n\tstop_words = set(stopwords.words('english'))\n\ttokens = [w for w in tokens if not w in stop_words]\n\t# filter out short tokens\n\ttokens = [word for word in tokens if len(word) > 1]\n\treturn tokens\n\n# load doc, clean and return line of tokens\ndef doc_to_line(filename, vocab):\n\t# load the doc\n\tdoc = load_doc(filename)\n\t# clean doc\n\ttokens = clean_doc(doc)\n\t# filter by vocab\n\ttokens = [w for w in tokens if w in vocab]\n\treturn ' '.join(tokens)\n\n# load all docs in a directory\ndef process_docs(directory, vocab):\n\tlines = list()\n\t# walk through all files in the folder\n\tfor filename in listdir(directory):\n\t\t# create the full path of the file to open\n\t\tpath = directory + '/' + filename\n\t\t# load and clean the doc\n\t\tline = doc_to_line(path, vocab)\n\t\t# add to list\n\t\tlines.append(line)\n\treturn lines\n\n# load and clean a dataset\ndef load_clean_dataset(vocab):\n\t# load documents\n\tneg = process_docs('txt_sentoken/neg', vocab)\n\tpos = process_docs('txt_sentoken/pos', vocab)\n\tdocs = neg + pos\n\t# prepare labels\n\tlabels = array([0 for _ in range(len(neg))] + [1 for _ in range(len(pos))])\n\treturn docs, labels\n\n# fit a tokenizer\ndef create_tokenizer(lines):\n\ttokenizer = Tokenizer()\n\ttokenizer.fit_on_texts(lines)\n\treturn tokenizer\n\n# define the model\ndef define_model(n_words):\n\t# define network\n\tmodel = Sequential()\n\tmodel.add(Dense(50, input_shape=(n_words,), activation='relu'))\n\tmodel.add(Dense(1, activation='sigmoid'))\n\t# compile network\n\tmodel.compile(loss='binary_crossentropy', optimizer='adam', metrics=['accuracy'])\n\t# summarize defined model\n\tmodel.summary()\n\tplot_model(model, to_file='model.png', show_shapes=True)\n\treturn model\n\n# classify a review as negative or positive\ndef predict_sentiment(review, vocab, tokenizer, model):\n\t# clean\n\ttokens = clean_doc(review)\n\t# filter by vocab\n\ttokens = [w for w in tokens if w in vocab]\n\t# convert to line\n\tline = ' '.join(tokens)\n\t# encode\n\tencoded = tokenizer.texts_to_matrix([line], mode='binary')\n\t# predict sentiment\n\tyhat = model.predict(encoded, verbose=0)\n\t# retrieve predicted percentage and label\n\tpercent_pos = yhat[0,0]\n\tif round(percent_pos) == 0:\n\t\treturn (1-percent_pos), 'NEGATIVE'\n\treturn percent_pos, 'POSITIVE'\n\n# load the vocabulary\nvocab_filename = 'vocab.txt'\nvocab = load_doc(vocab_filename)\nvocab = set(vocab.split())\n# load all reviews\ntrain_docs, ytrain = load_clean_dataset(vocab)\ntest_docs, ytest = load_clean_dataset(vocab)\n# create the tokenizer\ntokenizer = create_tokenizer(train_docs)\n# encode data\nXtrain = tokenizer.texts_to_matrix(train_docs, mode='binary')\nXtest = tokenizer.texts_to_matrix(test_docs, mode='binary')\n# define network\nn_words = Xtrain.shape[1]\nmodel = define_model(n_words)\n# fit network\nmodel.fit(Xtrain, ytrain, epochs=10, verbose=2)\n# test positive text\ntext = 'Best movie ever! It was great, I recommend it.'\npercent, sentiment = predict_sentiment(text, vocab, tokenizer, model)\nprint('Review: [%s]\\nSentiment: %s (%.3f%%)' % (text, sentiment, percent*100))\n# test negative text\ntext = 'This is a bad movie.'\npercent, sentiment = predict_sentiment(text, vocab, tokenizer, model)\nprint('Review: [%s]\\nSentiment: %s (%.3f%%)' % (text, sentiment, percent*100))\n"]
  }
 ],
 "metadata": {
  "kernelspec": {
   "display_name": "Python 3",
   "language": "python",
   "name": "python3"
  },
  "language_info": {
   "codemirror_mode": {
    "name": "ipython",
    "version": 3
   },
   "file_extension": ".py",
   "mimetype": "text/x-python",
   "name": "python",
   "nbconvert_exporter": "python",
   "pygments_lexer": "ipython3",
   "version": "3.4.2"
  }
 },
 "nbformat": 4,
 "nbformat_minor": 0
}