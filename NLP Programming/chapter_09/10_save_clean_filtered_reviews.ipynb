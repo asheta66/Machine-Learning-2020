{
  "nbformat": 4,
  "nbformat_minor": 0,
  "metadata": {
    "kernelspec": {
      "display_name": "Python 3",
      "language": "python",
      "name": "python3"
    },
    "language_info": {
      "codemirror_mode": {
        "name": "ipython",
        "version": 3
      },
      "file_extension": ".py",
      "mimetype": "text/x-python",
      "name": "python",
      "nbconvert_exporter": "python",
      "pygments_lexer": "ipython3",
      "version": "3.4.2"
    },
    "colab": {
      "name": "10_save_clean_filtered_reviews.ipynb",
      "provenance": [],
      "include_colab_link": true
    }
  },
  "cells": [
    {
      "cell_type": "markdown",
      "metadata": {
        "id": "view-in-github",
        "colab_type": "text"
      },
      "source": [
        "<a href=\"https://colab.research.google.com/github/asheta66/Machine-Learning-2020/blob/main/NLP%20Programming/chapter_09/10_save_clean_filtered_reviews.ipynb\" target=\"_parent\"><img src=\"https://colab.research.google.com/assets/colab-badge.svg\" alt=\"Open In Colab\"/></a>"
      ]
    },
    {
      "cell_type": "code",
      "metadata": {
        "id": "jLE0QbdKMmiT"
      },
      "source": [
        "# Acquireing dataset\r\n",
        "!git clone https://github.com/asheta66/Machine-Learning-2020\r\n",
        "%cd Machine-Learning-2020/Datasets/NLP\r\n",
        "%ls"
      ],
      "execution_count": null,
      "outputs": []
    },
    {
      "cell_type": "code",
      "metadata": {
        "id": "SPpGMpyIJ6Go",
        "outputId": "856fcafe-cde8-4e2d-aa97-93429a197922",
        "colab": {
          "base_uri": "https://localhost:8080/"
        }
      },
      "source": [
        "import string\n",
        "import re\n",
        "from os import listdir\n",
        "import nltk\n",
        "nltk.download('stopwords')\n",
        "from nltk.corpus import stopwords\n",
        "\n",
        "# load doc into memory\n",
        "def load_doc(filename):\n",
        "\t# open the file as read only\n",
        "\tfile = open(filename, 'r')\n",
        "\t# read all text\n",
        "\ttext = file.read()\n",
        "\t# close the file\n",
        "\tfile.close()\n",
        "\treturn text\n",
        "\n",
        "# turn a doc into clean tokens\n",
        "def clean_doc(doc):\n",
        "\t# split into tokens by white space\n",
        "\ttokens = doc.split()\n",
        "\t# prepare regex for char filtering\n",
        "\tre_punc = re.compile('[%s]' % re.escape(string.punctuation))\n",
        "\t# remove punctuation from each word\n",
        "\ttokens = [re_punc.sub('', w) for w in tokens]\n",
        "\t# remove remaining tokens that are not alphabetic\n",
        "\ttokens = [word for word in tokens if word.isalpha()]\n",
        "\t# filter out stop words\n",
        "\tstop_words = set(stopwords.words('english'))\n",
        "\ttokens = [w for w in tokens if not w in stop_words]\n",
        "\t# filter out short tokens\n",
        "\ttokens = [word for word in tokens if len(word) > 1]\n",
        "\treturn tokens\n",
        "\n",
        "# save list to file\n",
        "def save_list(lines, filename):\n",
        "\tdata = '\\n'.join(lines)\n",
        "\tfile = open(filename, 'w')\n",
        "\tfile.write(data)\n",
        "\tfile.close()\n",
        "\n",
        "# load doc, clean and return line of tokens\n",
        "def doc_to_line(filename, vocab):\n",
        "\t# load the doc\n",
        "\tdoc = load_doc(filename)\n",
        "\t# clean doc\n",
        "\ttokens = clean_doc(doc)\n",
        "\t# filter by vocab\n",
        "\ttokens = [w for w in tokens if w in vocab]\n",
        "\treturn ' '.join(tokens)\n",
        "\n",
        "# load all docs in a directory\n",
        "def process_docs(directory, vocab):\n",
        "\tlines = list()\n",
        "\t# walk through all files in the folder\n",
        "\tfor filename in listdir(directory):\n",
        "\t\t# skip files that do not have the right extension\n",
        "\t\tif not filename.endswith(\".txt\"):\n",
        "\t\t\tnext\n",
        "\t\t# create the full path of the file to open\n",
        "\t\tpath = directory + '/' + filename\n",
        "\t\t# load and clean the doc\n",
        "\t\tline = doc_to_line(path, vocab)\n",
        "\t\t# add to list\n",
        "\t\tlines.append(line)\n",
        "\treturn lines\n",
        "\n",
        "# load vocabulary\n",
        "vocab_filename = 'vocab.txt'\n",
        "vocab = load_doc(vocab_filename)\n",
        "vocab = vocab.split()\n",
        "vocab = set(vocab)\n",
        "# prepare negative reviews\n",
        "negative_lines = process_docs('txt_sentoken/neg', vocab)\n",
        "save_list(negative_lines, 'negative.txt')\n",
        "# prepare positive reviews\n",
        "positive_lines = process_docs('txt_sentoken/pos', vocab)\n",
        "save_list(positive_lines, 'positive.txt')\n",
        "print(negative_lines[4])\n",
        "print(positive_lines[4])"
      ],
      "execution_count": 6,
      "outputs": [
        {
          "output_type": "stream",
          "text": [
            "[nltk_data] Downloading package stopwords to /root/nltk_data...\n",
            "[nltk_data]   Package stopwords is already up-to-date!\n",
            "renowned hong kong action director tsui hark first teamed jeanclaude van damme action stars pairing dennis rodman managed make initially appeared disaster slick stylish somewhat diverting action tsui continues pile visual dazzle latest collaboration muscles knockoff time around style neither save script best ridiculous worst incomprehensible hide host truly lousy performances writer steven fairly straightforward plotline isnt strange yarn involving secret think makes much sense little van damme plays marcus ray hong sales rep jeans company stumbles upon russian terrorist scheme implant powerful bombs product dolls electronic equipment yes jeans part type ransom scheme remember kid cia computer screen showing map world bombs figure side world bursting laughter crowd showing attended spontaneously throughout knockoff van dammes films share unintentional laughs mostly due stiff acting skills physically van damme knockoff delivers usual though many van dammes embarrassing directorial effort lot laughs earned particularly painful lines badass like roman standing among favorites indeed pathetic performances provide bulk laughs van damme true laughable form perhaps even worse usual early scenes actually require make funny costar rob schneider improbably cast deep cover cia agent posing business partner sight sound van damme trying drop punchlines hilarious wrong way even typically good actors immune bad acting bug paul sorvino unconvincing terribly overwrought cia superior lela rochon playing investigator jeans company spends entire movie perpetual mode defense though role requires little display toned legs exquisite bone structure perky latter coming one key scene must fish stuck ample cleavage tsui picks left visually proceedings inventive camera work though visual dazzle borders kill coming desperate attempts shield inanity entire enterprise nifty trick tsui pulls recurring visual theme camera literally going electronic devices others completely superfluous especially disconcerting trick question could clever used right context instance one scene early marcus putting hand box puts hand action shown overhead camera angle corner screen undoubtedly interesting visual would nice use actually something test van damme movie boils action sequences surprisingly knockoff leave much desired tsui make something employing freeze frames blurred motion unconventional camera angles nothing fundamentally special fairly generic chase fight sequences written isnt anything amusing climactic mine fight let alone anything remotely close legendary hong kong works thats given going tsui hope approaching john woos success would best break free van damme late continues involvement bgrade movies knockoff respect action fans continue hasnt already disappeared entirely fiasco\n",
            "capsule bleak way makes case precision intelligence serial killer chic relatively new entry cultural vocabulary one ones ive never found someone automatically admirable even interesting killed creatively great numbers seeing henry wasnt sure wanted see story multiple murderer henry lee lucas portrayed kind nihilistic thankfully thats way henry works director john mcnaughton took small budget gallery actor friends created chilling intelligent piece work doesnt provide explanations henrys behavior shows man killed mood struck films opening henrys friend sister comes stay tries find work chicago viciously riveting scene admits murdered mother covers hand damned together moment henry eventually begin kill fun movie especially good showing seem casually theres scene two go buy new tv talk henry ugly words henry responds man death iron smashes us suddenly broker scene many damned movie unseen steal video camera film murder whole household playing back enjoyment movie however killings shows instead henry feels joy work henry succeeds thanks excellent writing direction well acting michael rooker credible henry first frame standing rest cast works casual well producers originally slasher film mcnaughton decided give something memorable consequently film nearly didnt see release film justify shows us henry im hard pressed see anyone see consider henry kind victim hero probably would henry\n"
          ],
          "name": "stdout"
        }
      ]
    }
  ]
}