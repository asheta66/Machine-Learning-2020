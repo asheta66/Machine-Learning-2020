{
 "cells": [
  {
   "cell_type": "code",
   "execution_count": null,
   "metadata": {
    "collapsed": false
   },
   "outputs": [],
   "source": ["from os import listdir\n\n# load doc into memory\ndef load_doc(filename):\n\t# open the file as read only\n\tfile = open(filename, 'r')\n\t# read all text\n\ttext = file.read()\n\t# close the file\n\tfile.close()\n\treturn text\n\n# load all docs in a directory\ndef process_docs(directory):\n\t# walk through all files in the folder\n\tfor filename in listdir(directory):\n\t\t# skip files that do not have the right extension\n\t\tif not filename.endswith(\".txt\"):\n\t\t\tnext\n\t\t# create the full path of the file to open\n\t\tpath = directory + '/' + filename\n\t\t# load document\n\t\tdoc = load_doc(path)\n\t\tprint('Loaded %s' % filename)\n\n# specify directory to load\ndirectory = 'txt_sentoken/neg'\nprocess_docs(directory)"]
  }
 ],
 "metadata": {
  "kernelspec": {
   "display_name": "Python 3",
   "language": "python",
   "name": "python3"
  },
  "language_info": {
   "codemirror_mode": {
    "name": "ipython",
    "version": 3
   },
   "file_extension": ".py",
   "mimetype": "text/x-python",
   "name": "python",
   "nbconvert_exporter": "python",
   "pygments_lexer": "ipython3",
   "version": "3.4.2"
  }
 },
 "nbformat": 4,
 "nbformat_minor": 0
}