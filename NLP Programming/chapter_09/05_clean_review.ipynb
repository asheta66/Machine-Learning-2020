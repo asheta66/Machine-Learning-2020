{
 "cells": [
  {
   "cell_type": "code",
   "execution_count": null,
   "metadata": {
    "collapsed": false
   },
   "outputs": [],
   "source": ["from nltk.corpus import stopwords\nimport string\nimport re\n\n# load doc into memory\ndef load_doc(filename):\n\t# open the file as read only\n\tfile = open(filename, 'r')\n\t# read all text\n\ttext = file.read()\n\t# close the file\n\tfile.close()\n\treturn text\n\n# load the document\nfilename = 'txt_sentoken/neg/cv000_29416.txt'\ntext = load_doc(filename)\n# split into tokens by white space\ntokens = text.split()\n# prepare regex for char filtering\nre_punc = re.compile('[%s]' % re.escape(string.punctuation))\n# remove punctuation from each word\ntokens = [re_punc.sub('', w) for w in tokens]\n# remove remaining tokens that are not alphabetic\ntokens = [word for word in tokens if word.isalpha()]\n# filter out stop words\nstop_words = set(stopwords.words('english'))\ntokens = [w for w in tokens if not w in stop_words]\n# filter out short tokens\ntokens = [word for word in tokens if len(word) > 1]\nprint(tokens)"]
  }
 ],
 "metadata": {
  "kernelspec": {
   "display_name": "Python 3",
   "language": "python",
   "name": "python3"
  },
  "language_info": {
   "codemirror_mode": {
    "name": "ipython",
    "version": 3
   },
   "file_extension": ".py",
   "mimetype": "text/x-python",
   "name": "python",
   "nbconvert_exporter": "python",
   "pygments_lexer": "ipython3",
   "version": "3.4.2"
  }
 },
 "nbformat": 4,
 "nbformat_minor": 0
}