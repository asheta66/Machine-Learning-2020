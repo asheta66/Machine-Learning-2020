{
 "cells": [
  {
   "cell_type": "code",
   "execution_count": null,
   "metadata": {
    "collapsed": false
   },
   "outputs": [],
   "source": ["from pickle import load\nfrom numpy import array\nfrom keras.preprocessing.text import Tokenizer\nfrom keras.preprocessing.sequence import pad_sequences\nfrom keras.utils import to_categorical\nfrom keras.utils.vis_utils import plot_model\nfrom keras.models import Sequential\nfrom keras.layers import LSTM\nfrom keras.layers import Dense\nfrom keras.layers import Embedding\nfrom keras.layers import RepeatVector\nfrom keras.layers import TimeDistributed\nfrom keras.callbacks import ModelCheckpoint\n\n# load a clean dataset\ndef load_clean_sentences(filename):\n\treturn load(open(filename, 'rb'))\n\n# fit a tokenizer\ndef create_tokenizer(lines):\n\ttokenizer = Tokenizer()\n\ttokenizer.fit_on_texts(lines)\n\treturn tokenizer\n\n# max sentence length\ndef max_length(lines):\n\treturn max(len(line.split()) for line in lines)\n\n# encode and pad sequences\ndef encode_sequences(tokenizer, length, lines):\n\t# integer encode sequences\n\tX = tokenizer.texts_to_sequences(lines)\n\t# pad sequences with 0 values\n\tX = pad_sequences(X, maxlen=length, padding='post')\n\treturn X\n\n# one hot encode target sequence\ndef encode_output(sequences, vocab_size):\n\tylist = list()\n\tfor sequence in sequences:\n\t\tencoded = to_categorical(sequence, num_classes=vocab_size)\n\t\tylist.append(encoded)\n\ty = array(ylist)\n\ty = y.reshape(sequences.shape[0], sequences.shape[1], vocab_size)\n\treturn y\n\n# define NMT model\ndef define_model(src_vocab, tar_vocab, src_timesteps, tar_timesteps, n_units):\n\tmodel = Sequential()\n\tmodel.add(Embedding(src_vocab, n_units, input_length=src_timesteps, mask_zero=True))\n\tmodel.add(LSTM(n_units))\n\tmodel.add(RepeatVector(tar_timesteps))\n\tmodel.add(LSTM(n_units, return_sequences=True))\n\tmodel.add(TimeDistributed(Dense(tar_vocab, activation='softmax')))\n\t# compile model\n\tmodel.compile(optimizer='adam', loss='categorical_crossentropy')\n\t# summarize defined model\n\tmodel.summary()\n\tplot_model(model, to_file='model.png', show_shapes=True)\n\treturn model\n\n# load datasets\ndataset = load_clean_sentences('english-german-both.pkl')\ntrain = load_clean_sentences('english-german-train.pkl')\ntest = load_clean_sentences('english-german-test.pkl')\n# prepare english tokenizer\neng_tokenizer = create_tokenizer(dataset[:, 0])\neng_vocab_size = len(eng_tokenizer.word_index) + 1\neng_length = max_length(dataset[:, 0])\nprint('English Vocabulary Size: %d' % eng_vocab_size)\nprint('English Max Length: %d' % (eng_length))\n# prepare german tokenizer\nger_tokenizer = create_tokenizer(dataset[:, 1])\nger_vocab_size = len(ger_tokenizer.word_index) + 1\nger_length = max_length(dataset[:, 1])\nprint('German Vocabulary Size: %d' % ger_vocab_size)\nprint('German Max Length: %d' % (ger_length))\n# prepare training data\ntrainX = encode_sequences(ger_tokenizer, ger_length, train[:, 1])\ntrainY = encode_sequences(eng_tokenizer, eng_length, train[:, 0])\ntrainY = encode_output(trainY, eng_vocab_size)\n# prepare validation data\ntestX = encode_sequences(ger_tokenizer, ger_length, test[:, 1])\ntestY = encode_sequences(eng_tokenizer, eng_length, test[:, 0])\ntestY = encode_output(testY, eng_vocab_size)\n# define model\nmodel = define_model(ger_vocab_size, eng_vocab_size, ger_length, eng_length, 256)\n# fit model\ncheckpoint = ModelCheckpoint('model.h5', monitor='val_loss', verbose=1, save_best_only=True, mode='min')\nmodel.fit(trainX, trainY, epochs=30, batch_size=64, validation_data=(testX, testY), callbacks=[checkpoint], verbose=2)\n"]
  }
 ],
 "metadata": {
  "kernelspec": {
   "display_name": "Python 3",
   "language": "python",
   "name": "python3"
  },
  "language_info": {
   "codemirror_mode": {
    "name": "ipython",
    "version": 3
   },
   "file_extension": ".py",
   "mimetype": "text/x-python",
   "name": "python",
   "nbconvert_exporter": "python",
   "pygments_lexer": "ipython3",
   "version": "3.4.2"
  }
 },
 "nbformat": 4,
 "nbformat_minor": 0
}