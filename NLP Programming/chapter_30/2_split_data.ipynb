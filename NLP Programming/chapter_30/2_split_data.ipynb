{
  "nbformat": 4,
  "nbformat_minor": 0,
  "metadata": {
    "kernelspec": {
      "display_name": "Python 3",
      "language": "python",
      "name": "python3"
    },
    "language_info": {
      "codemirror_mode": {
        "name": "ipython",
        "version": 3
      },
      "file_extension": ".py",
      "mimetype": "text/x-python",
      "name": "python",
      "nbconvert_exporter": "python",
      "pygments_lexer": "ipython3",
      "version": "3.4.2"
    },
    "colab": {
      "name": "2_split_data.ipynb",
      "provenance": [],
      "include_colab_link": true
    }
  },
  "cells": [
    {
      "cell_type": "markdown",
      "metadata": {
        "id": "view-in-github",
        "colab_type": "text"
      },
      "source": [
        "<a href=\"https://colab.research.google.com/github/asheta66/Machine-Learning-2020/blob/main/NLP%20Programming/chapter_30/2_split_data.ipynb\" target=\"_parent\"><img src=\"https://colab.research.google.com/assets/colab-badge.svg\" alt=\"Open In Colab\"/></a>"
      ]
    },
    {
      "cell_type": "code",
      "metadata": {
        "id": "8AC1AdzsXhlT",
        "outputId": "b238e6bc-0f77-4121-bd69-cd4e9d48be94",
        "colab": {
          "base_uri": "https://localhost:8080/"
        }
      },
      "source": [
        "# Acquireing datasets\r\n",
        "!git clone https://github.com/asheta66/Machine-Learning-2020\r\n",
        "# Create Model via another notebook\r\n",
        "%run Machine-Learning-2020/NLP\\ Programming/chapter_30/1_prepare_data.ipynb"
      ],
      "execution_count": 1,
      "outputs": [
        {
          "output_type": "stream",
          "text": [
            "Cloning into 'Machine-Learning-2020'...\n",
            "remote: Enumerating objects: 125, done.\u001b[K\n",
            "remote: Counting objects: 100% (125/125), done.\u001b[K\n",
            "remote: Compressing objects: 100% (124/124), done.\u001b[K\n",
            "remote: Total 3102 (delta 87), reused 3 (delta 0), pack-reused 2977\u001b[K\n",
            "Receiving objects: 100% (3102/3102), 37.29 MiB | 30.50 MiB/s, done.\n",
            "Resolving deltas: 100% (731/731), done.\n",
            "fatal: destination path 'Machine-Learning-2020' already exists and is not an empty directory.\n",
            "/content/Machine-Learning-2020/Datasets/NLP\n",
            "Saved: english-german.pkl\n",
            "[go] => [geh]\n",
            "[hi] => [hallo]\n",
            "[hi] => [gru gott]\n",
            "[run] => [lauf]\n",
            "[run] => [lauf]\n",
            "[wow] => [potzdonner]\n",
            "[wow] => [donnerwetter]\n",
            "[fire] => [feuer]\n",
            "[help] => [hilfe]\n",
            "[help] => [zu hulf]\n",
            "[stop] => [stopp]\n",
            "[stop] => [anhalten]\n",
            "[wait] => [warte]\n",
            "[wait] => [warte]\n",
            "[begin] => [fang an]\n",
            "[go on] => [mach weiter]\n",
            "[hello] => [hallo]\n",
            "[hello] => [sers]\n",
            "[hurry] => [beeil dich]\n",
            "[hurry] => [schnell]\n",
            "[i hid] => [ich versteckte mich]\n",
            "[i hid] => [ich habe mich versteckt]\n",
            "[i ran] => [ich rannte]\n",
            "[i see] => [ich verstehe]\n",
            "[i see] => [aha]\n",
            "[i try] => [ich probiere es]\n",
            "[i won] => [ich hab gewonnen]\n",
            "[i won] => [ich habe gewonnen]\n",
            "[relax] => [entspann dich]\n",
            "[shoot] => [feuer]\n",
            "[shoot] => [schie]\n",
            "[smile] => [lacheln]\n",
            "[ask me] => [frag mich]\n",
            "[ask me] => [fragt mich]\n",
            "[ask me] => [fragen sie mich]\n",
            "[attack] => [angriff]\n",
            "[attack] => [attacke]\n",
            "[cheers] => [zum wohl]\n",
            "[eat it] => [iss es]\n",
            "[eat up] => [iss auf]\n",
            "[eat up] => [iss auf]\n",
            "[freeze] => [keine bewegung]\n",
            "[freeze] => [stehenbleiben]\n",
            "[go now] => [geh jetzt]\n",
            "[got it] => [verstanden]\n",
            "[got it] => [ich habs]\n",
            "[got it] => [aha]\n",
            "[got it] => [kapiert]\n",
            "[got it] => [verstanden]\n",
            "[got it] => [einverstanden]\n",
            "[he ran] => [er rannte]\n",
            "[he ran] => [er lief]\n",
            "[hop in] => [mach mit]\n",
            "[hop in] => [spring rein]\n",
            "[hug me] => [druck mich]\n",
            "[hug me] => [nimm mich in den arm]\n",
            "[hug me] => [umarme mich]\n",
            "[i care] => [mir ist es wichtig]\n",
            "[i fell] => [ich fiel]\n",
            "[i fell] => [ich fiel hin]\n",
            "[i fell] => [ich sturzte]\n",
            "[i fell] => [ich bin hingefallen]\n",
            "[i fell] => [ich bin gesturzt]\n",
            "[i fled] => [ich fluchtete]\n",
            "[i fled] => [ich bin gefluchtet]\n",
            "[i know] => [ich wei]\n",
            "[i lied] => [ich habe gelogen]\n",
            "[i lost] => [ich habe verloren]\n",
            "[i paid] => [ich habe bezahlt]\n",
            "[i paid] => [ich zahlte]\n",
            "[i sang] => [ich sang]\n",
            "[i spit] => [ich spuckte]\n",
            "[i spit] => [ich habe gespuckt]\n",
            "[i swim] => [ich schwimme]\n",
            "[i wept] => [ich weinte]\n",
            "[i wept] => [ich habe geweint]\n",
            "[im] => [ich bin jahre alt]\n",
            "[im] => [ich bin]\n",
            "[im ok] => [mir gehts gut]\n",
            "[im ok] => [es geht mir gut]\n",
            "[im up] => [ich bin wach]\n",
            "[im up] => [ich bin auf]\n",
            "[listen] => [hort zu]\n",
            "[no way] => [unmoglich]\n",
            "[no way] => [das kommt nicht in frage]\n",
            "[no way] => [das gibts doch nicht]\n",
            "[no way] => [ausgeschlossen]\n",
            "[no way] => [in keinster weise]\n",
            "[really] => [wirklich]\n",
            "[really] => [echt]\n",
            "[really] => [im ernst]\n",
            "[thanks] => [danke]\n",
            "[try it] => [versuchs]\n",
            "[we try] => [wir versuchen es]\n",
            "[we won] => [wir haben gewonnen]\n",
            "[why me] => [warum ich]\n",
            "[ask tom] => [frag tom]\n",
            "[ask tom] => [fragen sie tom]\n",
            "[ask tom] => [fragt tom]\n",
            "[awesome] => [fantastisch]\n"
          ],
          "name": "stdout"
        }
      ]
    },
    {
      "cell_type": "code",
      "metadata": {
        "id": "AKD6RWQ6U1ob",
        "outputId": "06bcc42e-a957-40da-bd13-fbc4274e7646",
        "colab": {
          "base_uri": "https://localhost:8080/"
        }
      },
      "source": [
        "from pickle import load\n",
        "from pickle import dump\n",
        "from numpy.random import shuffle\n",
        "\n",
        "# load a clean dataset\n",
        "def load_clean_sentences(filename):\n",
        "\treturn load(open(filename, 'rb'))\n",
        "\n",
        "# save a list of clean sentences to file\n",
        "def save_clean_data(sentences, filename):\n",
        "\tdump(sentences, open(filename, 'wb'))\n",
        "\tprint('Saved: %s' % filename)\n",
        "\n",
        "# load dataset\n",
        "raw_dataset = load_clean_sentences('english-german.pkl')\n",
        "\n",
        "# reduce dataset size\n",
        "n_sentences = 10000\n",
        "dataset = raw_dataset[:n_sentences, :]\n",
        "# random shuffle\n",
        "shuffle(dataset)\n",
        "# split into train/test\n",
        "train, test = dataset[:9000], dataset[9000:]\n",
        "# save\n",
        "save_clean_data(dataset, 'english-german-both.pkl')\n",
        "save_clean_data(train, 'english-german-train.pkl')\n",
        "save_clean_data(test, 'english-german-test.pkl')"
      ],
      "execution_count": 2,
      "outputs": [
        {
          "output_type": "stream",
          "text": [
            "Saved: english-german-both.pkl\n",
            "Saved: english-german-train.pkl\n",
            "Saved: english-german-test.pkl\n"
          ],
          "name": "stdout"
        }
      ]
    }
  ]
}