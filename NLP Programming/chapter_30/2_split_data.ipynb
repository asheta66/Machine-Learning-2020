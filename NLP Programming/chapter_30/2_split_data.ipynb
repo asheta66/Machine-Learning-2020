{
 "cells": [
  {
   "cell_type": "code",
   "execution_count": null,
   "metadata": {
    "collapsed": false
   },
   "outputs": [],
   "source": ["from pickle import load\nfrom pickle import dump\nfrom numpy.random import shuffle\n\n# load a clean dataset\ndef load_clean_sentences(filename):\n\treturn load(open(filename, 'rb'))\n\n# save a list of clean sentences to file\ndef save_clean_data(sentences, filename):\n\tdump(sentences, open(filename, 'wb'))\n\tprint('Saved: %s' % filename)\n\n# load dataset\nraw_dataset = load_clean_sentences('english-german.pkl')\n\n# reduce dataset size\nn_sentences = 10000\ndataset = raw_dataset[:n_sentences, :]\n# random shuffle\nshuffle(dataset)\n# split into train/test\ntrain, test = dataset[:9000], dataset[9000:]\n# save\nsave_clean_data(dataset, 'english-german-both.pkl')\nsave_clean_data(train, 'english-german-train.pkl')\nsave_clean_data(test, 'english-german-test.pkl')"]
  }
 ],
 "metadata": {
  "kernelspec": {
   "display_name": "Python 3",
   "language": "python",
   "name": "python3"
  },
  "language_info": {
   "codemirror_mode": {
    "name": "ipython",
    "version": 3
   },
   "file_extension": ".py",
   "mimetype": "text/x-python",
   "name": "python",
   "nbconvert_exporter": "python",
   "pygments_lexer": "ipython3",
   "version": "3.4.2"
  }
 },
 "nbformat": 4,
 "nbformat_minor": 0
}