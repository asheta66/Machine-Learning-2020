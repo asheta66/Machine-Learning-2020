{
 "cells": [
  {
   "cell_type": "code",
   "execution_count": null,
   "metadata": {
    "collapsed": false
   },
   "outputs": [],
   "source": ["import string\nimport re\nfrom pickle import dump\nfrom unicodedata import normalize\nfrom numpy import array\n\n# load doc into memory\ndef load_doc(filename):\n\t# open the file as read only\n\tfile = open(filename, mode='rt', encoding='utf-8')\n\t# read all text\n\ttext = file.read()\n\t# close the file\n\tfile.close()\n\treturn text\n\n# split a loaded document into sentences\ndef to_pairs(doc):\n\tlines = doc.strip().split('\\n')\n\tpairs = [line.split('\\t') for line in  lines]\n\treturn pairs\n\n# clean a list of lines\ndef clean_pairs(lines):\n\tcleaned = list()\n\t# prepare regex for char filtering\n\tre_punc = re.compile('[%s]' % re.escape(string.punctuation))\n\tre_print = re.compile('[^%s]' % re.escape(string.printable))\n\tfor pair in lines:\n\t\tclean_pair = list()\n\t\tfor line in pair:\n\t\t\t# normalize unicode characters\n\t\t\tline = normalize('NFD', line).encode('ascii', 'ignore')\n\t\t\tline = line.decode('UTF-8')\n\t\t\t# tokenize on white space\n\t\t\tline = line.split()\n\t\t\t# convert to lowercase\n\t\t\tline = [word.lower() for word in line]\n\t\t\t# remove punctuation from each token\n\t\t\tline = [re_punc.sub('', w) for w in line]\n\t\t\t# remove non-printable chars form each token\n\t\t\tline = [re_print.sub('', w) for w in line]\n\t\t\t# remove tokens with numbers in them\n\t\t\tline = [word for word in line if word.isalpha()]\n\t\t\t# store as string\n\t\t\tclean_pair.append(' '.join(line))\n\t\tcleaned.append(clean_pair)\n\treturn array(cleaned)\n\n# save a list of clean sentences to file\ndef save_clean_data(sentences, filename):\n\tdump(sentences, open(filename, 'wb'))\n\tprint('Saved: %s' % filename)\n\n# load dataset\nfilename = 'deu.txt'\ndoc = load_doc(filename)\n# split into english-german pairs\npairs = to_pairs(doc)\n# clean sentences\nclean_pairs = clean_pairs(pairs)\n# save clean pairs to file\nsave_clean_data(clean_pairs, 'english-german.pkl')\n# spot check\nfor i in range(100):\n\tprint('[%s] => [%s]' % (clean_pairs[i,0], clean_pairs[i,1]))"]
  }
 ],
 "metadata": {
  "kernelspec": {
   "display_name": "Python 3",
   "language": "python",
   "name": "python3"
  },
  "language_info": {
   "codemirror_mode": {
    "name": "ipython",
    "version": 3
   },
   "file_extension": ".py",
   "mimetype": "text/x-python",
   "name": "python",
   "nbconvert_exporter": "python",
   "pygments_lexer": "ipython3",
   "version": "3.4.2"
  }
 },
 "nbformat": 4,
 "nbformat_minor": 0
}