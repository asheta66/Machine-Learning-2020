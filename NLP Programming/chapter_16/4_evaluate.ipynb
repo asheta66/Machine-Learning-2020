{
 "cells": [
  {
   "cell_type": "code",
   "execution_count": null,
   "metadata": {
    "collapsed": false
   },
   "outputs": [],
   "source": ["from pickle import load\nfrom numpy import array\nfrom keras.preprocessing.text import Tokenizer\nfrom keras.preprocessing.sequence import pad_sequences\nfrom keras.models import load_model\n\n# load a clean dataset\ndef load_dataset(filename):\n\treturn load(open(filename, 'rb'))\n\n# fit a tokenizer\ndef create_tokenizer(lines):\n\ttokenizer = Tokenizer()\n\ttokenizer.fit_on_texts(lines)\n\treturn tokenizer\n\n# calculate the maximum document length\ndef max_length(lines):\n\treturn max([len(s.split()) for s in lines])\n\n# encode a list of lines\ndef encode_text(tokenizer, lines, length):\n\t# integer encode\n\tencoded = tokenizer.texts_to_sequences(lines)\n\t# pad encoded sequences\n\tpadded = pad_sequences(encoded, maxlen=length, padding='post')\n\treturn padded\n\n# load datasets\ntrainLines, trainLabels = load_dataset('train.pkl')\ntestLines, testLabels = load_dataset('test.pkl')\n# create tokenizer\ntokenizer = create_tokenizer(trainLines)\n# calculate max document length\nlength = max_length(trainLines)\nprint('Max document length: %d' % length)\n# calculate vocabulary size\nvocab_size = len(tokenizer.word_index) + 1\nprint('Vocabulary size: %d' % vocab_size)\n# encode data\ntrainX = encode_text(tokenizer, trainLines, length)\ntestX = encode_text(tokenizer, testLines, length)\n# load the model\nmodel = load_model('model.h5')\n# evaluate model on training dataset\n_, acc = model.evaluate([trainX,trainX,trainX], array(trainLabels), verbose=0)\nprint('Train Accuracy: %.2f' % (acc*100))\n# evaluate model on test dataset dataset\n_, acc = model.evaluate([testX,testX,testX], array(testLabels), verbose=0)\nprint('Test Accuracy: %.2f' % (acc*100))"]
  }
 ],
 "metadata": {
  "kernelspec": {
   "display_name": "Python 3",
   "language": "python",
   "name": "python3"
  },
  "language_info": {
   "codemirror_mode": {
    "name": "ipython",
    "version": 3
   },
   "file_extension": ".py",
   "mimetype": "text/x-python",
   "name": "python",
   "nbconvert_exporter": "python",
   "pygments_lexer": "ipython3",
   "version": "3.4.2"
  }
 },
 "nbformat": 4,
 "nbformat_minor": 0
}