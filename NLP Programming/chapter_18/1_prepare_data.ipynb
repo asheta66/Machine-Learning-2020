{
 "cells": [
  {
   "cell_type": "code",
   "execution_count": null,
   "metadata": {
    "collapsed": false
   },
   "outputs": [],
   "source": ["# load doc into memory\ndef load_doc(filename):\n\t# open the file as read only\n\tfile = open(filename, 'r')\n\t# read all text\n\ttext = file.read()\n\t# close the file\n\tfile.close()\n\treturn text\n\n# save tokens to file, one dialog per line\ndef save_doc(lines, filename):\n\tdata = '\\n'.join(lines)\n\tfile = open(filename, 'w')\n\tfile.write(data)\n\tfile.close()\n\n# load text\nraw_text = load_doc('rhyme.txt')\nprint(raw_text)\n# clean\ntokens = raw_text.split()\nraw_text = ' '.join(tokens)\n# organize into sequences of characters\nlength = 10\nsequences = list()\nfor i in range(length, len(raw_text)):\n\t# select sequence of tokens\n\tseq = raw_text[i-length:i+1]\n\t# store\n\tsequences.append(seq)\nprint('Total Sequences: %d' % len(sequences))\n# save sequences to file\nout_filename = 'char_sequences.txt'\nsave_doc(sequences, out_filename)"]
  }
 ],
 "metadata": {
  "kernelspec": {
   "display_name": "Python 3",
   "language": "python",
   "name": "python3"
  },
  "language_info": {
   "codemirror_mode": {
    "name": "ipython",
    "version": 3
   },
   "file_extension": ".py",
   "mimetype": "text/x-python",
   "name": "python",
   "nbconvert_exporter": "python",
   "pygments_lexer": "ipython3",
   "version": "3.4.2"
  }
 },
 "nbformat": 4,
 "nbformat_minor": 0
}