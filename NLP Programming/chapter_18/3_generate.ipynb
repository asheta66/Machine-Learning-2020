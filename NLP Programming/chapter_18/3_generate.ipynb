{
 "cells": [
  {
   "cell_type": "code",
   "execution_count": null,
   "metadata": {
    "collapsed": false
   },
   "outputs": [],
   "source": ["from pickle import load\nfrom numpy import array\nfrom keras.models import load_model\nfrom keras.utils import to_categorical\nfrom keras.preprocessing.sequence import pad_sequences\n\n# generate a sequence of characters with a language model\ndef generate_seq(model, mapping, seq_length, seed_text, n_chars):\n\tin_text = seed_text\n\t# generate a fixed number of characters\n\tfor _ in range(n_chars):\n\t\t# encode the characters as integers\n\t\tencoded = [mapping[char] for char in in_text]\n\t\t# truncate sequences to a fixed length\n\t\tencoded = pad_sequences([encoded], maxlen=seq_length, truncating='pre')\n\t\t# one hot encode\n\t\tencoded = to_categorical(encoded, num_classes=len(mapping))\n\t\t# predict character\n\t\tyhat = model.predict_classes(encoded, verbose=0)\n\t\t# reverse map integer to character\n\t\tout_char = ''\n\t\tfor char, index in mapping.items():\n\t\t\tif index == yhat:\n\t\t\t\tout_char = char\n\t\t\t\tbreak\n\t\t# append to input\n\t\tin_text += out_char\n\treturn in_text\n\n# load the model\nmodel = load_model('model.h5')\n# load the mapping\nmapping = load(open('mapping.pkl', 'rb'))\n# test start of rhyme\nprint(generate_seq(model, mapping, 10, 'Sing a son', 20))\n# test mid-line\nprint(generate_seq(model, mapping, 10, 'king was i', 20))\n# test not in original\nprint(generate_seq(model, mapping, 10, 'hello worl', 20))"]
  }
 ],
 "metadata": {
  "kernelspec": {
   "display_name": "Python 3",
   "language": "python",
   "name": "python3"
  },
  "language_info": {
   "codemirror_mode": {
    "name": "ipython",
    "version": 3
   },
   "file_extension": ".py",
   "mimetype": "text/x-python",
   "name": "python",
   "nbconvert_exporter": "python",
   "pygments_lexer": "ipython3",
   "version": "3.4.2"
  }
 },
 "nbformat": 4,
 "nbformat_minor": 0
}