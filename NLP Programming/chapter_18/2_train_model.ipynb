{
 "cells": [
  {
   "cell_type": "code",
   "execution_count": null,
   "metadata": {
    "collapsed": false
   },
   "outputs": [],
   "source": ["from numpy import array\nfrom pickle import dump\nfrom keras.utils import to_categorical\nfrom keras.utils.vis_utils import plot_model\nfrom keras.models import Sequential\nfrom keras.layers import Dense\nfrom keras.layers import LSTM\n\n# load doc into memory\ndef load_doc(filename):\n\t# open the file as read only\n\tfile = open(filename, 'r')\n\t# read all text\n\ttext = file.read()\n\t# close the file\n\tfile.close()\n\treturn text\n\n# define the model\ndef define_model(X):\n\tmodel = Sequential()\n\tmodel.add(LSTM(75, input_shape=(X.shape[1], X.shape[2])))\n\tmodel.add(Dense(vocab_size, activation='softmax'))\n\t# compile model\n\tmodel.compile(loss='categorical_crossentropy', optimizer='adam', metrics=['accuracy'])\n\t# summarize defined model\n\tmodel.summary()\n\tplot_model(model, to_file='model.png', show_shapes=True)\n\treturn model\n\n# load\nin_filename = 'char_sequences.txt'\nraw_text = load_doc(in_filename)\nlines = raw_text.split('\\n')\n# integer encode sequences of characters\nchars = sorted(list(set(raw_text)))\nmapping = dict((c, i) for i, c in enumerate(chars))\nsequences = list()\nfor line in lines:\n\t# integer encode line\n\tencoded_seq = [mapping[char] for char in line]\n\t# store\n\tsequences.append(encoded_seq)\n# vocabulary size\nvocab_size = len(mapping)\nprint('Vocabulary Size: %d' % vocab_size)\n# separate into input and output\nsequences = array(sequences)\nX, y = sequences[:,:-1], sequences[:,-1]\nsequences = [to_categorical(x, num_classes=vocab_size) for x in X]\nX = array(sequences)\ny = to_categorical(y, num_classes=vocab_size)\n# define model\nmodel = define_model(X)\n# fit model\nmodel.fit(X, y, epochs=100, verbose=2)\n# save the model to file\nmodel.save('model.h5')\n# save the mapping\ndump(mapping, open('mapping.pkl', 'wb'))"]
  }
 ],
 "metadata": {
  "kernelspec": {
   "display_name": "Python 3",
   "language": "python",
   "name": "python3"
  },
  "language_info": {
   "codemirror_mode": {
    "name": "ipython",
    "version": 3
   },
   "file_extension": ".py",
   "mimetype": "text/x-python",
   "name": "python",
   "nbconvert_exporter": "python",
   "pygments_lexer": "ipython3",
   "version": "3.4.2"
  }
 },
 "nbformat": 4,
 "nbformat_minor": 0
}