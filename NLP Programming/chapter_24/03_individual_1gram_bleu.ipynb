{
 "cells": [
  {
   "cell_type": "code",
   "execution_count": null,
   "metadata": {
    "collapsed": false
   },
   "outputs": [],
   "source": ["# 1-gram individual BLEU\nfrom nltk.translate.bleu_score import sentence_bleu\nreference = [['this', 'is', 'small', 'test']]\ncandidate = ['this', 'is', 'a', 'test']\nscore = sentence_bleu(reference, candidate, weights=(1, 0, 0, 0))\nprint(score)"]
  }
 ],
 "metadata": {
  "kernelspec": {
   "display_name": "Python 3",
   "language": "python",
   "name": "python3"
  },
  "language_info": {
   "codemirror_mode": {
    "name": "ipython",
    "version": 3
   },
   "file_extension": ".py",
   "mimetype": "text/x-python",
   "name": "python",
   "nbconvert_exporter": "python",
   "pygments_lexer": "ipython3",
   "version": "3.4.2"
  }
 },
 "nbformat": 4,
 "nbformat_minor": 0
}