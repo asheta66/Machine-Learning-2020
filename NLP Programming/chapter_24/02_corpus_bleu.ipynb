{
 "cells": [
  {
   "cell_type": "code",
   "execution_count": null,
   "metadata": {
    "collapsed": false
   },
   "outputs": [],
   "source": ["# two references for one document\nfrom nltk.translate.bleu_score import corpus_bleu\nreferences = [[['this', 'is', 'a', 'test'], ['this', 'is' 'test']]]\ncandidates = [['this', 'is', 'a', 'test']]\nscore = corpus_bleu(references, candidates)\nprint(score)"]
  }
 ],
 "metadata": {
  "kernelspec": {
   "display_name": "Python 3",
   "language": "python",
   "name": "python3"
  },
  "language_info": {
   "codemirror_mode": {
    "name": "ipython",
    "version": 3
   },
   "file_extension": ".py",
   "mimetype": "text/x-python",
   "name": "python",
   "nbconvert_exporter": "python",
   "pygments_lexer": "ipython3",
   "version": "3.4.2"
  }
 },
 "nbformat": 4,
 "nbformat_minor": 0
}