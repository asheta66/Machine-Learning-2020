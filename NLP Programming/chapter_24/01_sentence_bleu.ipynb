{
 "cells": [
  {
   "cell_type": "code",
   "execution_count": null,
   "metadata": {
    "collapsed": false
   },
   "outputs": [],
   "source": ["from nltk.translate.bleu_score import sentence_bleu\nreference = [['this', 'is', 'a', 'test'], ['this', 'is' 'test']]\ncandidate = ['this', 'is', 'a', 'test']\nscore = sentence_bleu(reference, candidate)\nprint(score)"]
  }
 ],
 "metadata": {
  "kernelspec": {
   "display_name": "Python 3",
   "language": "python",
   "name": "python3"
  },
  "language_info": {
   "codemirror_mode": {
    "name": "ipython",
    "version": 3
   },
   "file_extension": ".py",
   "mimetype": "text/x-python",
   "name": "python",
   "nbconvert_exporter": "python",
   "pygments_lexer": "ipython3",
   "version": "3.4.2"
  }
 },
 "nbformat": 4,
 "nbformat_minor": 0
}