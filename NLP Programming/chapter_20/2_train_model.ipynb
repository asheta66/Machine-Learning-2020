{
 "cells": [
  {
   "cell_type": "code",
   "execution_count": null,
   "metadata": {
    "collapsed": false
   },
   "outputs": [],
   "source": ["from numpy import array\nfrom pickle import dump\nfrom keras.preprocessing.text import Tokenizer\nfrom keras.utils.vis_utils import plot_model\nfrom keras.utils import to_categorical\nfrom keras.models import Sequential\nfrom keras.layers import Dense\nfrom keras.layers import LSTM\nfrom keras.layers import Embedding\n\n# load doc into memory\ndef load_doc(filename):\n\t# open the file as read only\n\tfile = open(filename, 'r')\n\t# read all text\n\ttext = file.read()\n\t# close the file\n\tfile.close()\n\treturn text\n\n# define the model\ndef define_model(vocab_size, seq_length):\n\tmodel = Sequential()\n\tmodel.add(Embedding(vocab_size, 50, input_length=seq_length))\n\tmodel.add(LSTM(100, return_sequences=True))\n\tmodel.add(LSTM(100))\n\tmodel.add(Dense(100, activation='relu'))\n\tmodel.add(Dense(vocab_size, activation='softmax'))\n\t# compile network\n\tmodel.compile(loss='categorical_crossentropy', optimizer='adam', metrics=['accuracy'])\n\t# summarize defined model\n\tmodel.summary()\n\tplot_model(model, to_file='model.png', show_shapes=True)\n\treturn model\n\n# load\nin_filename = 'republic_sequences.txt'\ndoc = load_doc(in_filename)\nlines = doc.split('\\n')\n# integer encode sequences of words\ntokenizer = Tokenizer()\ntokenizer.fit_on_texts(lines)\nsequences = tokenizer.texts_to_sequences(lines)\n# vocabulary size\nvocab_size = len(tokenizer.word_index) + 1\n# separate into input and output\nsequences = array(sequences)\nX, y = sequences[:,:-1], sequences[:,-1]\ny = to_categorical(y, num_classes=vocab_size)\nseq_length = X.shape[1]\n# define model\nmodel = define_model(vocab_size, seq_length)\n# fit model\nmodel.fit(X, y, batch_size=128, epochs=100)\n# save the model to file\nmodel.save('model.h5')\n# save the tokenizer\ndump(tokenizer, open('tokenizer.pkl', 'wb'))"]
  }
 ],
 "metadata": {
  "kernelspec": {
   "display_name": "Python 3",
   "language": "python",
   "name": "python3"
  },
  "language_info": {
   "codemirror_mode": {
    "name": "ipython",
    "version": 3
   },
   "file_extension": ".py",
   "mimetype": "text/x-python",
   "name": "python",
   "nbconvert_exporter": "python",
   "pygments_lexer": "ipython3",
   "version": "3.4.2"
  }
 },
 "nbformat": 4,
 "nbformat_minor": 0
}