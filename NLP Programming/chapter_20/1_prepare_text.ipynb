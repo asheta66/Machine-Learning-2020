{
 "cells": [
  {
   "cell_type": "code",
   "execution_count": null,
   "metadata": {
    "collapsed": false
   },
   "outputs": [],
   "source": ["import string\nimport re\n\n# load doc into memory\ndef load_doc(filename):\n\t# open the file as read only\n\tfile = open(filename, 'r')\n\t# read all text\n\ttext = file.read()\n\t# close the file\n\tfile.close()\n\treturn text\n\n# turn a doc into clean tokens\ndef clean_doc(doc):\n\t# replace '--' with a space ' '\n\tdoc = doc.replace('--', ' ')\n\t# split into tokens by white space\n\ttokens = doc.split()\n\t# prepare regex for char filtering\n\tre_punc = re.compile('[%s]' % re.escape(string.punctuation))\n\t# remove punctuation from each word\n\ttokens = [re_punc.sub('', w) for w in tokens]\n\t# remove remaining tokens that are not alphabetic\n\ttokens = [word for word in tokens if word.isalpha()]\n\t# make lower case\n\ttokens = [word.lower() for word in tokens]\n\treturn tokens\n\n# save tokens to file, one dialog per line\ndef save_doc(lines, filename):\n\tdata = '\\n'.join(lines)\n\tfile = open(filename, 'w')\n\tfile.write(data)\n\tfile.close()\n\n# load document\nin_filename = 'republic_clean.txt'\ndoc = load_doc(in_filename)\nprint(doc[:200])\n# clean document\ntokens = clean_doc(doc)\nprint(tokens[:200])\nprint('Total Tokens: %d' % len(tokens))\nprint('Unique Tokens: %d' % len(set(tokens)))\n# organize into sequences of tokens\nlength = 50 + 1\nsequences = list()\nfor i in range(length, len(tokens)):\n\t# select sequence of tokens\n\tseq = tokens[i-length:i]\n\t# convert into a line\n\tline = ' '.join(seq)\n\t# store\n\tsequences.append(line)\nprint('Total Sequences: %d' % len(sequences))\n# save sequences to file\nout_filename = 'republic_sequences.txt'\nsave_doc(sequences, out_filename)"]
  }
 ],
 "metadata": {
  "kernelspec": {
   "display_name": "Python 3",
   "language": "python",
   "name": "python3"
  },
  "language_info": {
   "codemirror_mode": {
    "name": "ipython",
    "version": 3
   },
   "file_extension": ".py",
   "mimetype": "text/x-python",
   "name": "python",
   "nbconvert_exporter": "python",
   "pygments_lexer": "ipython3",
   "version": "3.4.2"
  }
 },
 "nbformat": 4,
 "nbformat_minor": 0
}