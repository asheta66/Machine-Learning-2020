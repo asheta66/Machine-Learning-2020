{
 "cells": [
  {
   "cell_type": "code",
   "execution_count": null,
   "metadata": {
    "collapsed": false
   },
   "outputs": [],
   "source": ["from random import randint\nfrom pickle import load\nfrom keras.models import load_model\nfrom keras.preprocessing.sequence import pad_sequences\n\n# load doc into memory\ndef load_doc(filename):\n\t# open the file as read only\n\tfile = open(filename, 'r')\n\t# read all text\n\ttext = file.read()\n\t# close the file\n\tfile.close()\n\treturn text\n\n# generate a sequence from a language model\ndef generate_seq(model, tokenizer, seq_length, seed_text, n_words):\n\tresult = list()\n\tin_text = seed_text\n\t# generate a fixed number of words\n\tfor _ in range(n_words):\n\t\t# encode the text as integer\n\t\tencoded = tokenizer.texts_to_sequences([in_text])[0]\n\t\t# truncate sequences to a fixed length\n\t\tencoded = pad_sequences([encoded], maxlen=seq_length, truncating='pre')\n\t\t# predict probabilities for each word\n\t\tyhat = model.predict_classes(encoded, verbose=0)\n\t\t# map predicted word index to word\n\t\tout_word = ''\n\t\tfor word, index in tokenizer.word_index.items():\n\t\t\tif index == yhat:\n\t\t\t\tout_word = word\n\t\t\t\tbreak\n\t\t# append to input\n\t\tin_text += ' ' + out_word\n\t\tresult.append(out_word)\n\treturn ' '.join(result)\n\n# load cleaned text sequences\nin_filename = 'republic_sequences.txt'\ndoc = load_doc(in_filename)\nlines = doc.split('\\n')\nseq_length = len(lines[0].split()) - 1\n# load the model\nmodel = load_model('model.h5')\n# load the tokenizer\ntokenizer = load(open('tokenizer.pkl', 'rb'))\n# select a seed text\nseed_text = lines[randint(0,len(lines))]\nprint(seed_text + '\\n')\n# generate new text\ngenerated = generate_seq(model, tokenizer, seq_length, seed_text, 50)\nprint(generated)"]
  }
 ],
 "metadata": {
  "kernelspec": {
   "display_name": "Python 3",
   "language": "python",
   "name": "python3"
  },
  "language_info": {
   "codemirror_mode": {
    "name": "ipython",
    "version": 3
   },
   "file_extension": ".py",
   "mimetype": "text/x-python",
   "name": "python",
   "nbconvert_exporter": "python",
   "pygments_lexer": "ipython3",
   "version": "3.4.2"
  }
 },
 "nbformat": 4,
 "nbformat_minor": 0
}