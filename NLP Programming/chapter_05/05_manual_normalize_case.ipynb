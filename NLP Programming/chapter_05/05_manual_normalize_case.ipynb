{
 "cells": [
  {
   "cell_type": "code",
   "execution_count": null,
   "metadata": {
    "collapsed": false
   },
   "outputs": [],
   "source": ["filename = 'metamorphosis_clean.txt'\nfile = open(filename, 'rt')\ntext = file.read()\nfile.close()\n# split into words by white space\nwords = text.split()\n# convert to lower case\nwords = [word.lower() for word in words]\nprint(words[:100])"]
  }
 ],
 "metadata": {
  "kernelspec": {
   "display_name": "Python 3",
   "language": "python",
   "name": "python3"
  },
  "language_info": {
   "codemirror_mode": {
    "name": "ipython",
    "version": 3
   },
   "file_extension": ".py",
   "mimetype": "text/x-python",
   "name": "python",
   "nbconvert_exporter": "python",
   "pygments_lexer": "ipython3",
   "version": "3.4.2"
  }
 },
 "nbformat": 4,
 "nbformat_minor": 0
}