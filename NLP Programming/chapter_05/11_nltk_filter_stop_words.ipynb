{
 "cells": [
  {
   "cell_type": "code",
   "execution_count": null,
   "metadata": {
    "collapsed": false
   },
   "outputs": [],
   "source": ["import string\nimport re\nfrom nltk.tokenize import word_tokenize\nfrom nltk.corpus import stopwords\n# load data\nfilename = 'metamorphosis_clean.txt'\nfile = open(filename, 'rt')\ntext = file.read()\nfile.close()\n# split into words\ntokens = word_tokenize(text)\n# convert to lower case\ntokens = [w.lower() for w in tokens]\n# prepare regex for char filtering\nre_punc = re.compile('[%s]' % re.escape(string.punctuation))\n# remove punctuation from each word\nstripped = [re_punc.sub('', w) for w in tokens]\n# remove remaining tokens that are not alphabetic\nwords = [word for word in stripped if word.isalpha()]\n# filter out stop words\nstop_words = set(stopwords.words('english'))\nwords = [w for w in words if not w in stop_words]\nprint(words[:100])"]
  }
 ],
 "metadata": {
  "kernelspec": {
   "display_name": "Python 3",
   "language": "python",
   "name": "python3"
  },
  "language_info": {
   "codemirror_mode": {
    "name": "ipython",
    "version": 3
   },
   "file_extension": ".py",
   "mimetype": "text/x-python",
   "name": "python",
   "nbconvert_exporter": "python",
   "pygments_lexer": "ipython3",
   "version": "3.4.2"
  }
 },
 "nbformat": 4,
 "nbformat_minor": 0
}