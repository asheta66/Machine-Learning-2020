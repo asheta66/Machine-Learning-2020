{
  "nbformat": 4,
  "nbformat_minor": 0,
  "metadata": {
    "kernelspec": {
      "display_name": "Python 3",
      "language": "python",
      "name": "python3"
    },
    "language_info": {
      "codemirror_mode": {
        "name": "ipython",
        "version": 3
      },
      "file_extension": ".py",
      "mimetype": "text/x-python",
      "name": "python",
      "nbconvert_exporter": "python",
      "pygments_lexer": "ipython3",
      "version": "3.6.8"
    },
    "colab": {
      "name": "01_manual_load_data.ipynb",
      "provenance": [],
      "include_colab_link": true
    }
  },
  "cells": [
    {
      "cell_type": "markdown",
      "metadata": {
        "id": "view-in-github",
        "colab_type": "text"
      },
      "source": [
        "<a href=\"https://colab.research.google.com/github/asheta66/Machine-Learning-2020/blob/main/NLP%20Programming/chapter_05/01_manual_load_data.ipynb\" target=\"_parent\"><img src=\"https://colab.research.google.com/assets/colab-badge.svg\" alt=\"Open In Colab\"/></a>"
      ]
    },
    {
      "cell_type": "code",
      "metadata": {
        "scrolled": true,
        "colab": {
          "base_uri": "https://localhost:8080/"
        },
        "id": "JYBQ95MB_rOH",
        "outputId": "63c584b0-c46a-45b0-ff1e-e1df2a38b91a"
      },
      "source": [
        "import requests\n",
        "# load text\n",
        "filename = 'https://raw.githubusercontent.com/asheta66/Machine-Learning-2020/main/Datasets/NLP/metamorphosis_clean.txt'\n",
        "req = requests.get(filename)\n",
        "text=req.text\n",
        "print(text[:1000])"
      ],
      "execution_count": 8,
      "outputs": [
        {
          "output_type": "stream",
          "text": [
            "One morning, when Gregor Samsa woke from troubled dreams, he found\n",
            "himself transformed in his bed into a horrible vermin.  He lay on\n",
            "his armour-like back, and if he lifted his head a little he could\n",
            "see his brown belly, slightly domed and divided by arches into stiff\n",
            "sections.  The bedding was hardly able to cover it and seemed ready\n",
            "to slide off any moment.  His many legs, pitifully thin compared\n",
            "with the size of the rest of him, waved about helplessly as he\n",
            "looked.\n",
            "\n",
            "\"What's happened to me?\" he thought.  It wasn't a dream.  His room,\n",
            "a proper human room although a little too small, lay peacefully\n",
            "between its four familiar walls.  A collection of textile samples\n",
            "lay spread out on the table - Samsa was a travelling salesman - and\n",
            "above it there hung a picture that he had recently cut out of an\n",
            "illustrated magazine and housed in a nice, gilded frame.  It showed\n",
            "a lady fitted out with a fur hat and fur boa who sat upright,\n",
            "raising a heavy fur muff that covered the whole of her lower arm\n",
            "t\n"
          ],
          "name": "stdout"
        }
      ]
    },
    {
      "cell_type": "code",
      "metadata": {
        "id": "cxaYZQ7f_rOO"
      },
      "source": [
        ""
      ],
      "execution_count": null,
      "outputs": []
    }
  ]
}