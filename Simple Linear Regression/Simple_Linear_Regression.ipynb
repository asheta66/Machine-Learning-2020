{
  "nbformat": 4,
  "nbformat_minor": 0,
  "metadata": {
    "colab": {
      "name": "Untitled4.ipynb",
      "provenance": [],
      "authorship_tag": "ABX9TyN0qXat5Ou0StrEXNrTRNQD",
      "include_colab_link": true
    },
    "kernelspec": {
      "name": "python3",
      "display_name": "Python 3"
    }
  },
  "cells": [
    {
      "cell_type": "markdown",
      "metadata": {
        "id": "view-in-github",
        "colab_type": "text"
      },
      "source": [
        "<a href=\"https://colab.research.google.com/github/asheta66/Machine-Learning-2020/blob/main/Simple%20Linear%20Regression/Simple_Linear_Regression.ipynb\" target=\"_parent\"><img src=\"https://colab.research.google.com/assets/colab-badge.svg\" alt=\"Open In Colab\"/></a>"
      ]
    },
    {
      "cell_type": "code",
      "metadata": {
        "id": "7aCo9eMAbgH0"
      },
      "source": [
        "# Simple Linear Regression\r\n",
        "# Importing the libraries\r\n",
        "\r\n",
        "import numpy as np\r\n",
        "import matplotlib.pyplot as plt\r\n",
        "import pandas as pd\r\n",
        "\r\n",
        "# Importing the datasets\r\n",
        " \r\n",
        "datasets = pd.read_csv('Salary_Data.csv')\r\n",
        "\r\n",
        "X = datasets.iloc[:, :-1].values\r\n",
        "Y = datasets.iloc[:, 1].values\r\n",
        "\r\n",
        "# Splitting the dataset into the Training set and Test set\r\n",
        "\r\n",
        "from sklearn.model_selection import train_test_split\r\n",
        "X_Train, X_Test, Y_Train, Y_Test = train_test_split(X, Y, test_size = 1/3, random_state = 0)\r\n",
        "\r\n",
        "# Fitting Simple Linear Regression to the training set\r\n",
        "\r\n",
        "from sklearn.linear_model import LinearRegression\r\n",
        "regressor = LinearRegression()\r\n",
        "regressor.fit(X_Train, Y_Train)\r\n",
        "\r\n",
        "# Predicting the Test set result ￼\r\n",
        "\r\n",
        "Y_Pred = regressor.predict(X_Test)\r\n",
        "\r\n",
        "\r\n",
        "# Visualising the Training set results\r\n",
        "\r\n",
        "plt.scatter(X_Train, Y_Train, color = 'red')\r\n",
        "plt.plot(X_Train, regressor.predict(X_Train), color = 'blue')\r\n",
        "plt.title('Salary vs Experience  (Training Set)')\r\n",
        "plt.xlabel('Years of experience')\r\n",
        "plt.ylabel('Salary')\r\n",
        "plt.show()\r\n",
        "\r\n",
        "# Visualising the Test set results\r\n",
        "\r\n",
        "plt.scatter(X_Test, Y_Test, color = 'red')\r\n",
        "plt.plot(X_Train, regressor.predict(X_Train), color = 'blue')\r\n",
        "plt.title('Salary vs Experience  (Training Set)')\r\n",
        "plt.xlabel('Years of experience')\r\n",
        "plt.ylabel('Salary')\r\n",
        "plt.show()"
      ],
      "execution_count": null,
      "outputs": []
    }
  ]
}